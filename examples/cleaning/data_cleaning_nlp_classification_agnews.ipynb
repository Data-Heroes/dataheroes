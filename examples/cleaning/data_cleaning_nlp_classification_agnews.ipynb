{
 "cells": [
  {
   "cell_type": "markdown",
   "metadata": {
    "pycharm": {
     "name": "#%% md\n"
    }
   },
   "source": [
    "# Data Cleaning | NLP Classification"
   ]
  },
  {
   "cell_type": "markdown",
   "metadata": {},
   "source": [
    "## The problem"
   ]
  },
  {
   "cell_type": "markdown",
   "metadata": {},
   "source": [
    "Following a data-centric approach, the quality of the machine learning (ML) model is highly dependent on the quality of the data used to train it. Unfortunately, despite curators best efforts, the provided data can still include errors or miss-classifications. It is a well-known issue that data scientists spend more than half their time cleaning the data. One challenge for using a dataset is that there is no \"go-to\" method of finding errors in the dataset, such as faulty labels or samples that do not fit the business use case."
   ]
  },
  {
   "cell_type": "markdown",
   "metadata": {
    "pycharm": {
     "name": "#%% md\n"
    }
   },
   "source": [
    "## The solution: Coresets"
   ]
  },
  {
   "cell_type": "markdown",
   "metadata": {
    "pycharm": {
     "name": "#%% md\n"
    }
   },
   "source": [
    "Coresets refer to a sampling methodology originating in computational geometry used to approximate optimization problems. They are based on selecting a subset of the original dataset that maintains the entire dataset's statistical properties (including the corner cases). Training a model on the Coreset should give the same result as training it on the full dataset.\n",
    "\n",
    "When computing a Coreset, every instance in the dataset is assigned an importance value, which indicates how important it is to the final ML model. Samples that receive a high importance value in the Coreset computation require the attention of the data scientist as they usually indicate a labeling error or other data-related issues. Therefore, leveraging the Coresets, we can easily assign an importance score to each sample. Instances with high importance scores have a high probability of being mislabeled. Thus, we can sample instances of interest by looking at the top percentile of importance.\n",
    "\n",
    "In the end, by speeding up the cleaning process of the dataset, the data scientists can focus on bringing real value and not on curating tasks."
   ]
  },
  {
   "cell_type": "markdown",
   "metadata": {},
   "source": [
    "# The goal of this notebook"
   ]
  },
  {
   "cell_type": "markdown",
   "metadata": {},
   "source": [
    "We will use the Ag News NLP dataset to compute the importance values of all the samples within a class of interest using the coreset logistic regression service. With the help of the important values, we will quickly find samples that are hard to predict or might be mislabeled. Thus, accelerating the cleaning process of the dataset.\n",
    "\n",
    "We preprocessed the text into embedding using a pretrained Bert model. By doing this, we can successfully run a logistic regression coresets service on top of the resulting embeddings."
   ]
  },
  {
   "cell_type": "markdown",
   "metadata": {},
   "source": [
    "# Import Dependencies"
   ]
  },
  {
   "cell_type": "code",
   "execution_count": 4,
   "metadata": {},
   "outputs": [],
   "source": [
    "\n",
    "import json\n",
    "import os\n",
    "import time\n",
    "import tkinter as tk\n",
    "from collections import defaultdict\n",
    "from pathlib import Path\n",
    "from typing import Optional\n",
    "from typing import Tuple\n",
    "\n",
    "import gdown\n",
    "import numpy as np\n",
    "import pandas as pd\n",
    "from matplotlib import pyplot as plt\n",
    "from matplotlib.backends.backend_tkagg import FigureCanvasTkAgg\n",
    "from matplotlib.figure import Figure\n",
    "from sklearn.exceptions import ConvergenceWarning\n",
    "from sklearn.linear_model import LogisticRegressionCV"
   ]
  },
  {
   "cell_type": "code",
   "execution_count": 5,
   "metadata": {},
   "outputs": [],
   "source": [
    "# Import the logistic regression Coreset service, which we will use to find important samples within the dataset.\n",
    "from dataheroes import CoresetTreeServiceLG"
   ]
  },
  {
   "cell_type": "code",
   "execution_count": 6,
   "metadata": {},
   "outputs": [],
   "source": [
    "# Ignore convergence warnings for logistic regression.\n",
    "import warnings\n",
    "\n",
    "warnings.filterwarnings(action='ignore', category=ConvergenceWarning)\n",
    "warnings.filterwarnings(action='ignore', category=UserWarning)"
   ]
  },
  {
   "cell_type": "code",
   "execution_count": 7,
   "metadata": {},
   "outputs": [],
   "source": [
    "# Set a random seed for reproducability.\n",
    "np.random.seed(42)"
   ]
  },
  {
   "cell_type": "markdown",
   "metadata": {},
   "source": [
    "# Define Constants\n",
    "\n",
    "These values are used throughout the notebook for various I/O operations."
   ]
  },
  {
   "cell_type": "code",
   "execution_count": 8,
   "metadata": {},
   "outputs": [],
   "source": [
    "# Folder identifier on Google Drive\n",
    "AG_NEWS_FILE_ID = '1INdDvHDSofByGIqpd7oEwhgYZRsPBFtn'\n",
    "\n",
    "# Location of the preprocessed ag news dataset.\n",
    "DATA_DIR = Path(\"data/ag_news\")\n",
    "\n",
    "# Location of the saved results\n",
    "DATA_OUTPUT = Path(\"output\")\n",
    "\n",
    "# The number of top-importance samples that we will pick. \n",
    "TOP_N_SAMPLES = 150\n",
    "\n",
    "# The number of top-importance samples that we will view every iteration.\n",
    "TOP_N_SAMPLES_VIEWED = 500\n",
    "\n",
    "# The number of bottom importance samples that we will pick.\n",
    "BOTTOM_N_SAMPLES = 150\n",
    "\n",
    "# Legend used to map the class ids to their name.\n",
    "DATASET_LEGEND = {\n",
    "    0: \"World\",\n",
    "    1: \"Sports\",\n",
    "    2: \"Business\",\n",
    "    3: \"Sci/Tech\"\n",
    "}"
   ]
  },
  {
   "cell_type": "markdown",
   "metadata": {
    "pycharm": {
     "name": "#%% md\n"
    }
   },
   "source": [
    "# Helper methods"
   ]
  },
  {
   "cell_type": "code",
   "execution_count": 8,
   "metadata": {
    "pycharm": {
     "name": "#%%\n"
    }
   },
   "outputs": [],
   "source": [
    "def build_service(X: np.ndarray, y: np.array) -> CoresetTreeServiceLG:\n",
    "    \"\"\"\n",
    "    Generate a new coreset from the given features and labels using the CoresetTreeServiceLG class.\n",
    "    :param X: A numpy array containing the features used to generate the coreset\n",
    "    :param y: A numpy array containing the corresponding label for each feature\n",
    "\n",
    "    :return:\n",
    "    A CoresetTreeServiceLG object composed of 5% of the input data\n",
    "    \"\"\"\n",
    "    coreset_size = int(0.05 * len(X))\n",
    "    start_service_time = time.time()\n",
    "    service = CoresetTreeServiceLG(coreset_size=coreset_size, optimized_for='cleaning', n_instances=len(y))\n",
    "    service.build(X, y)\n",
    "    end_service_time = time.time()\n",
    "    print(f\"..Coreset computed in {end_service_time - start_service_time:.2f} seconds...\")\n",
    "    return service\n",
    "\n",
    "\n",
    "def update_service(service: CoresetTreeServiceLG, cleaned_targets: dict) -> CoresetTreeServiceLG:\n",
    "    \"\"\"\n",
    "     Update an existing CoresetTreeServiceLG object by changing target labels or removing data samples\n",
    "     based on the changes specified in the cleaned_targets dictionary.\n",
    "    :param service: A CoresetTreeServiceLG object representing the logistic regression model\n",
    "    :param cleaned_targets: A dictionary containing the changes to be made. The dictionary has two keys:\n",
    "        'change_index': A dictionary where the keys are the class IDs and the values are lists of sample indices to be changed.\n",
    "        If a sample index appears in more than one list, its target label will be changed to the last value it appears in\n",
    "        the dictionary.\n",
    "        'drop': A list of sample indices to be removed from the coreset.\n",
    "\n",
    "    :return:\n",
    "    The updated CoresetService object.\n",
    "    \"\"\"\n",
    "\n",
    "    # Change target values\n",
    "    for target_class_id, sample_indices_to_change in cleaned_targets['change_index'].items():\n",
    "        if len(sample_indices_to_change):\n",
    "            target_class_ids = [target_class_id] * len(sample_indices_to_change)\n",
    "            service.update_targets(sample_indices_to_change, target_class_ids)\n",
    "\n",
    "    # Drop samples\n",
    "    if len(cleaned_targets['drop']):\n",
    "        service.remove_samples(cleaned_targets['drop'])\n",
    "\n",
    "    print('..Finished updating service...')\n",
    "    return service\n",
    "\n",
    "\n",
    "def get_top_important_samples(service: CoresetTreeServiceLG,\n",
    "                              of_interest_class_id: int = 0,\n",
    "                              top_n_samples: int = 500) -> Tuple[np.array, np.array]:\n",
    "    \"\"\"\n",
    "    Extract the top N important samples for a given class from a CoresetTreeServiceLG object.\n",
    "    The function returns a tuple containing the indices and the importance\n",
    "    values of these samples.\n",
    "    :param service: A CoresetTreeServiceLG object representing the logistic regression model\n",
    "    :param of_interest_class_id: An integer representing the class ID of interest. The default value is 0.\n",
    "    :param top_n_samples: An integer representing the number of top important samples to retrieve. The default value is 500.\n",
    "\n",
    "    :return:\n",
    "    A tuple containing the indices and the importance values of the top N important samples.\n",
    "    \"\"\"\n",
    "\n",
    "    result = service.get_cleaning_samples(\n",
    "        class_size={of_interest_class_id: \"all\"}\n",
    "    )\n",
    "    important_sample_indices, important_sample_values = result[\"idx\"][:top_n_samples], result[\"importance\"][:top_n_samples]\n",
    "    return important_sample_indices, important_sample_values\n",
    "\n",
    "\n",
    "def cross_val(X: np.ndarray, y: np.array, sample_weight: Optional[np.ndarray] = None,\n",
    "              kfolds: int = 5, scoring: str = 'roc_auc') -> dict:\n",
    "    \"\"\"\n",
    "    Perform k-fold cross-validation on a logistic regression model.\n",
    "    The funtion takes feature matrix X, target variable y, the number of folds,\n",
    "    and the type of scoring as input. It returns a dictionary of the scores for each class.\n",
    "    :param X: A numpy ndarray representing the feature matrix\n",
    "    :param y: A numpy array representing the target variable\n",
    "    :param sample_weight: A numpy array representing the weights of the samples\n",
    "    :param kfolds: An integer representing the number of folds for cross-validation. The default value is 5\n",
    "    :param scoring: A string representing the scoring metric to use for evaluation. The default is 'roc_auc'\n",
    "\n",
    "    :return:\n",
    "    The function returns a dictionary of the scores for each class.\n",
    "    \"\"\"\n",
    "    clf = LogisticRegressionCV(\n",
    "        cv=kfolds,\n",
    "        random_state=42,\n",
    "        scoring=scoring,\n",
    "        multi_class=\"ovr\",\n",
    "        max_iter=5000,\n",
    "        class_weight=\"balanced\",\n",
    "        refit=True,\n",
    "    ).fit(X, y, sample_weight)\n",
    "\n",
    "    scores = dict()\n",
    "    for class_id, class_scores in clf.scores_.items():\n",
    "        class_score = class_scores.mean(axis=0).max()\n",
    "        scores[class_id] = class_score\n",
    "\n",
    "    print(f'..Finished evaluating LG performance using {scoring}...')\n",
    "    return scores\n",
    "\n",
    "\n",
    "def aggregate_scores(per_class_scores: dict, aggregated_scores: dict) -> dict:\n",
    "    \"\"\"\n",
    "    Aggregate the per-class scores by appending the scores for each class to the corresponding\n",
    "    list of aggregated scores. The function returns the updated dictionary of aggregated scores.\n",
    "    :param per_class_scores: A dictionary containing per-class scores. The keys are class IDs and the values are lists of scores\n",
    "    :param aggregated_scores: A dictionary containing aggregated scores. The keys are class IDs and the values are lists of scores\n",
    "\n",
    "    :return:\n",
    "    The updated dictionary of aggregated scores\n",
    "    \"\"\"\n",
    "    for class_id, scores in per_class_scores.items():\n",
    "        aggregated_scores[class_id].append(\n",
    "            per_class_scores[class_id]\n",
    "        )\n",
    "\n",
    "    return aggregated_scores"
   ]
  },
  {
   "cell_type": "markdown",
   "metadata": {
    "pycharm": {
     "name": "#%% md\n"
    }
   },
   "source": [
    "# Load data"
   ]
  },
  {
   "cell_type": "markdown",
   "metadata": {
    "pycharm": {
     "name": "#%% md\n"
    }
   },
   "source": [
    "## How We Computed the Embeddings 👇\n",
    "\n",
    "\n",
    "The features we will load are already precomputed within a different script. These were computed from the Ag News dataset with the following steps.\n",
    "1. We initialized a pretrained Bert classifier. We dropped the last classification layer to output an embedding instead of the class distribution.\n",
    "2. We passed all the text through the Bert model, which outputs a 768 embedding.\n",
    "\n",
    "**NOTE:** We moved these steps to a different script because it takes a few hours to run. Also, you need a GPU and extra dependencies to run it properly. Thus we wanted to make this notebook as light as possible.\n",
    "\n",
    "The raw dataset represents the actual/raw text used as input to the NLP Bert model."
   ]
  },
  {
   "cell_type": "markdown",
   "metadata": {
    "pycharm": {
     "name": "#%% md\n"
    }
   },
   "source": [
    "## Load data"
   ]
  },
  {
   "cell_type": "markdown",
   "metadata": {
    "pycharm": {
     "name": "#%% md\n"
    }
   },
   "source": [
    "The data you need for this notebook is placed here.\n",
    "We will download the contents of a folder called AG_News and place the data at data/ag_news.\n",
    "The folder contains three files.\n",
    "- raw_train.npy: Raw text data\n",
    "- x_train.npy: Text embeddings of every sample\n",
    "- y_train.npy: Labels for every sample\n",
    "\n",
    "The folder size exceeds 1GB, the download may take few minutes."
   ]
  },
  {
   "cell_type": "code",
   "execution_count": 17,
   "metadata": {
    "pycharm": {
     "name": "#%%\n"
    }
   },
   "outputs": [
    {
     "name": "stdout",
     "output_type": "stream",
     "text": [
      "Downloading files...\n"
     ]
    },
    {
     "name": "stderr",
     "output_type": "stream",
     "text": [
      "Retrieving folder list\n"
     ]
    },
    {
     "name": "stdout",
     "output_type": "stream",
     "text": [
      "Processing file 19pnD2o1BPO8LGpu6PCuL9FqcqxDNc66Y raw_train.npy\n",
      "Processing file 1PAym7GddBBRKOCrY1IGGNrYfhMvQMmsJ x_train.npy\n",
      "Processing file 1PFeQPyEyZe6E0PVHcT069_HgQDr57A93 y_train.npy\n",
      "Building directory structure completed\n"
     ]
    },
    {
     "name": "stderr",
     "output_type": "stream",
     "text": [
      "Retrieving folder list completed\n",
      "Building directory structure\n",
      "Downloading...\n",
      "From: https://drive.google.com/uc?id=19pnD2o1BPO8LGpu6PCuL9FqcqxDNc66Y\n",
      "To: /Users/luchicla/Work/Consulting/CoreAI/Data_Heroes/src/nlp/data/ag_news/raw_train.npy\n",
      "100%|██████████| 405M/405M [00:35<00:00, 11.2MB/s] \n",
      "Downloading...\n",
      "From: https://drive.google.com/uc?id=1PAym7GddBBRKOCrY1IGGNrYfhMvQMmsJ\n",
      "To: /Users/luchicla/Work/Consulting/CoreAI/Data_Heroes/src/nlp/data/ag_news/x_train.npy\n",
      "100%|██████████| 614M/614M [00:55<00:00, 11.2MB/s] \n",
      "Downloading...\n",
      "From: https://drive.google.com/uc?id=1PFeQPyEyZe6E0PVHcT069_HgQDr57A93\n",
      "To: /Users/luchicla/Work/Consulting/CoreAI/Data_Heroes/src/nlp/data/ag_news/y_train.npy\n",
      "100%|██████████| 800k/800k [00:00<00:00, 4.89MB/s]\n",
      "Download completed\n"
     ]
    }
   ],
   "source": [
    "def download_data():\n",
    "    \"\"\"Utility function used to unzip the download AGNEWS.zip file.\"\"\"\n",
    "    print(\"Downloading files...\")\n",
    "    gdown.download_folder(f\"https://drive.google.com/drive/folders/{AG_NEWS_FILE_ID}\",\n",
    "                          output=str(DATA_DIR), use_cookies=False, quiet=False)\n",
    "\n",
    "\n",
    "download_data()"
   ]
  },
  {
   "cell_type": "code",
   "execution_count": 18,
   "metadata": {
    "pycharm": {
     "name": "#%%\n"
    }
   },
   "outputs": [
    {
     "name": "stdout",
     "output_type": "stream",
     "text": [
      "Loaded X - shape = (100000, 768)\n",
      "Loaded y - shape = (100000,)\n"
     ]
    }
   ],
   "source": [
    "raw_data = np.load(os.path.join(DATA_DIR, \"raw_train.npy\"))\n",
    "X = np.load(os.path.join(DATA_DIR, \"x_train.npy\"))\n",
    "y = np.load(os.path.join(DATA_DIR, \"y_train.npy\"))\n",
    "\n",
    "print(f\"Loaded X - shape = {X.shape}\")\n",
    "print(f\"Loaded y - shape = {y.shape}\")"
   ]
  },
  {
   "cell_type": "markdown",
   "metadata": {
    "pycharm": {
     "name": "#%% md\n"
    }
   },
   "source": [
    "## Visualise the original samples distribution"
   ]
  },
  {
   "cell_type": "code",
   "execution_count": 10,
   "metadata": {
    "pycharm": {
     "name": "#%%\n"
    }
   },
   "outputs": [
    {
     "data": {
      "text/plain": [
       "Text(0, 0.5, 'Counts')"
      ]
     },
     "execution_count": 10,
     "metadata": {},
     "output_type": "execute_result"
    },
    {
     "data": {
      "image/png": "[encoded data removed]",
      "text/plain": [
       "<Figure size 1600x800 with 1 Axes>"
      ]
     },
     "metadata": {},
     "output_type": "display_data"
    }
   ],
   "source": [
    "fig, ax = plt.subplots(figsize=(16, 8))\n",
    "labels_distribution = pd.Series(y).value_counts()\n",
    "labels_distribution.index = [DATASET_LEGEND[class_id] for class_id in labels_distribution.index]\n",
    "labels_distribution.plot.bar()\n",
    "fig.suptitle(\"Text Categories Distribution\", fontsize=20)\n",
    "ax.set_xlabel(\"Category\", fontsize=15)\n",
    "ax.set_ylabel(\"Counts\", fontsize=15)"
   ]
  },
  {
   "cell_type": "markdown",
   "metadata": {
    "pycharm": {
     "name": "#%% md\n"
    }
   },
   "source": [
    "## Pick the class of interest"
   ]
  },
  {
   "cell_type": "code",
   "execution_count": 11,
   "metadata": {
    "pycharm": {
     "name": "#%%\n"
    }
   },
   "outputs": [
    {
     "name": "stdout",
     "output_type": "stream",
     "text": [
      "Our class of interest is 'World'.\n",
      "It has a total of 24900 samples/text entries.\n"
     ]
    }
   ],
   "source": [
    "# of_interest_class_id = np.argmin(auc_scores)\n",
    "of_interest_class_id = 0\n",
    "\n",
    "# Map the id its name.\n",
    "of_interest_class_name = DATASET_LEGEND[of_interest_class_id]\n",
    "\n",
    "print(f\"Our class of interest is '{of_interest_class_name}'.\")\n",
    "print(f\"It has a total of {labels_distribution[of_interest_class_name]} samples/text entries.\")"
   ]
  },
  {
   "cell_type": "markdown",
   "metadata": {
    "pycharm": {
     "name": "#%% md\n"
    }
   },
   "source": [
    "# Compute the Importance Using Coresets\n",
    "\n",
    "With the help of the `CoresetServiceLG` class, we will find the samples of interest within the `of_interest_continuous_class_id` class. This service will compute the coreset relative to the given data and logistic regression. Using the coreset, it can assign importance values with the help of which we will find our samples of interest."
   ]
  },
  {
   "cell_type": "code",
   "execution_count": 12,
   "metadata": {
    "pycharm": {
     "name": "#%%\n"
    }
   },
   "outputs": [
    {
     "name": "stdout",
     "output_type": "stream",
     "text": [
      "Coreset size 5000 samples.\n",
      "Coreset computed in 22.73 seconds\n"
     ]
    }
   ],
   "source": [
    "# Compute the coreset size as 5% of all the data\n",
    "coreset_size = int(0.05 * len(X))\n",
    "print(f\"Coreset size {coreset_size} samples.\")\n",
    "\n",
    "# Build coreset\n",
    "start_service_time = time.time()\n",
    "service = CoresetTreeServiceLG(coreset_size=coreset_size, optimized_for='cleaning', n_instances=len(y))\n",
    "service.build(X, y)\n",
    "end_service_time = time.time()\n",
    "\n",
    "print(f\"Coreset computed in {end_service_time - start_service_time:.2f} seconds\")"
   ]
  },
  {
   "cell_type": "markdown",
   "metadata": {
    "pycharm": {
     "name": "#%% md\n"
    }
   },
   "source": [
    "## Visualise samples importance"
   ]
  },
  {
   "cell_type": "code",
   "execution_count": 13,
   "metadata": {
    "pycharm": {
     "name": "#%%\n"
    }
   },
   "outputs": [],
   "source": [
    "important_samples = service.get_cleaning_samples(class_size={of_interest_class_id: 50_000})\n",
    "important_sample_indices, important_sample_values = important_samples[\"idx\"], important_samples[\"importance\"]"
   ]
  },
  {
   "cell_type": "code",
   "execution_count": 14,
   "metadata": {
    "pycharm": {
     "name": "#%%\n"
    }
   },
   "outputs": [
    {
     "data": {
      "image/png": "[encoded data removed]",
      "text/plain": [
       "<Figure size 1600x800 with 1 Axes>"
      ]
     },
     "metadata": {},
     "output_type": "display_data"
    }
   ],
   "source": [
    "fig, ax = plt.subplots(1, 1, figsize=(16, 8), constrained_layout=True)\n",
    "fig.suptitle(f\"Coreset Sample Importance Histogram for Class '{of_interest_class_name}'\", fontsize=20)\n",
    "ax.set_xlabel(\"Counts\", fontsize=15)\n",
    "ax.set_ylabel(\"Density\", fontsize=15)\n",
    "\n",
    "plt.hist(\n",
    "    important_sample_values,\n",
    "    bins=20,\n",
    "    density=True,\n",
    ");"
   ]
  },
  {
   "cell_type": "markdown",
   "metadata": {
    "pycharm": {
     "name": "#%% md\n"
    }
   },
   "source": [
    "# Visualise Samples Sorted By Importance\n",
    "\n",
    "We will visualize the data samples from the top and bottom ends of the importance spectrum based on what we computed using the coresets service.\n",
    "\n",
    "One important thing to highlight is that the indices and values returned by the coreset service are already sorted in descending order."
   ]
  },
  {
   "cell_type": "markdown",
   "metadata": {
    "pycharm": {
     "name": "#%% md\n"
    }
   },
   "source": [
    "## Define Visualisation Functions\n"
   ]
  },
  {
   "cell_type": "code",
   "execution_count": 18,
   "metadata": {
    "pycharm": {
     "name": "#%%\n"
    }
   },
   "outputs": [],
   "source": [
    "class bcolors:\n",
    "    \"\"\"Class that aggregates typing constants.\"\"\"\n",
    "\n",
    "    HEADER = '\\033[95m'\n",
    "    BOLD = '\\033[1m'\n",
    "    ENDC = '\\033[0m'\n",
    "\n",
    "\n",
    "def visualize(raw_train: np.ndarray, y_train: np.ndarray, importance_values: np.ndarray, sample_indices: np.array, title: str):\n",
    "    \"\"\"Generator used to visualize the samples and annotations within the Ag News dataset.\"\"\"\n",
    "\n",
    "    print(f\"{bcolors.HEADER}{'*' * 40} {title} {'*' * 40}{bcolors.ENDC}\")\n",
    "\n",
    "    num_sections = len(raw_train) // 5 + 1\n",
    "    chunks_raw_train = np.array_split(raw_train, num_sections)\n",
    "    chunks_y_train = np.array_split(y_train, num_sections)\n",
    "    chunks_importance_values = np.array_split(importance_values, num_sections)\n",
    "    chunks_sample_indices = np.array_split(sample_indices, num_sections)\n",
    "    for chunk_raw_train, chunk_y_train, chunk_importance_values, chunk_sample_indices in zip(chunks_raw_train, chunks_y_train,\n",
    "                                                                                             chunks_importance_values,\n",
    "                                                                                             chunks_sample_indices):\n",
    "        for raw_train, label_id, importance_value, sample_index in zip(chunk_raw_train, chunk_y_train, chunk_importance_values, chunk_sample_indices):\n",
    "            print(f\"{bcolors.BOLD}Text{bcolors.ENDC}: {raw_train}\")\n",
    "            print(f\"{bcolors.BOLD}Label Name{bcolors.ENDC}: {DATASET_LEGEND[label_id]}\")\n",
    "            print(f\"{bcolors.BOLD}Importance Value{bcolors.ENDC}: {importance_value:.2f}\")\n",
    "            print(f\"{bcolors.BOLD}Sample Index{bcolors.ENDC}: {sample_index}\")\n",
    "            print(f\"{bcolors.HEADER}{'-' * 100}{bcolors.ENDC}\")\n",
    "        yield\n",
    "\n",
    "\n",
    "def get_top(important_sample_indices: np.ndarray, important_sample_values: np.ndarray):\n",
    "    \"\"\"Utility function that extracts top-importance samples based on the output from the coresets service.\"\"\"\n",
    "\n",
    "    top_important_sample_indices = important_sample_indices[:TOP_N_SAMPLES]\n",
    "    top_important_raw_train = raw_data[top_important_sample_indices]\n",
    "    top_important_y_train = y[top_important_sample_indices]\n",
    "    top_importance_values_train = important_sample_values[:TOP_N_SAMPLES]\n",
    "\n",
    "    return top_important_raw_train, top_important_y_train, top_importance_values_train, top_important_sample_indices\n",
    "\n",
    "\n",
    "def get_bottom(important_sample_indices: np.ndarray, important_sample_values: np.ndarray):\n",
    "    \"\"\"Utility function that extracts bottom-importance samples based on the output from the coresets service.\"\"\"\n",
    "\n",
    "    bottom_important_sample_indices = important_sample_indices[-BOTTOM_N_SAMPLES:]\n",
    "    bottom_important_raw_train = raw_data[bottom_important_sample_indices]\n",
    "    bottom_important_y_train = y[bottom_important_sample_indices]\n",
    "    bottom_importance_values = important_sample_values[-BOTTOM_N_SAMPLES:]\n",
    "\n",
    "    return bottom_important_raw_train, bottom_important_y_train, bottom_importance_values, bottom_important_sample_indices"
   ]
  },
  {
   "cell_type": "markdown",
   "metadata": {
    "pycharm": {
     "name": "#%% md\n"
    }
   },
   "source": [
    "## Visualise Top Importance\n",
    "\n",
    "Within the top-importance samples, we will find hard to predict samples or mislabeled samples.\n",
    "\n",
    "Notice how the top importance samples contain examples that are either mislabeled or samples that should be dropped. In contrast, the\n",
    "bottom importance samples primarily contain examples that are correctly classified. Based on this observation, we will proceed with\n",
    "cleaning the data focusing on the top importance samples only."
   ]
  },
  {
   "cell_type": "code",
   "execution_count": 19,
   "metadata": {
    "pycharm": {
     "name": "#%%\n"
    }
   },
   "outputs": [],
   "source": [
    "top_important_raw_train, top_important_y_train, top_importance_values, top_important_sample_indices = get_top(important_sample_indices, important_sample_values)\n",
    "top_importance_visualizer = visualize(\n",
    "    raw_train=top_important_raw_train,\n",
    "    y_train=top_important_y_train,\n",
    "    importance_values=top_importance_values,\n",
    "    sample_indices=top_important_sample_indices,\n",
    "    title=\"Top Importance\"\n",
    ")"
   ]
  },
  {
   "cell_type": "code",
   "execution_count": 20,
   "metadata": {
    "pycharm": {
     "name": "#%%\n"
    }
   },
   "outputs": [
    {
     "name": "stdout",
     "output_type": "stream",
     "text": [
      "\u001B[95m**************************************** Top Importance ****************************************\u001B[0m\n",
      "\u001B[1mText\u001B[0m: Tennis: Sharapova wins finale Maria Sharapova beats Serena Williams 4-6 6-2 6-4 in the Tour Championships final.\n",
      "\u001B[1mLabel Name\u001B[0m: World\n",
      "\u001B[1mImportance Value\u001B[0m: 30986.58\n",
      "\u001B[1mSample Index\u001B[0m: 89787\n",
      "\u001B[95m----------------------------------------------------------------------------------------------------\u001B[0m\n",
      "\u001B[1mText\u001B[0m: Massu Defeats Kucera at CA Trophy Olympic champion Nicolas Massu defeated Karol Kucera 6-4, 6-7 (5), 6-4 at the CA Trophy tournament on Tuesday.\n",
      "\u001B[1mLabel Name\u001B[0m: World\n",
      "\u001B[1mImportance Value\u001B[0m: 29009.60\n",
      "\u001B[1mSample Index\u001B[0m: 16061\n",
      "\u001B[95m----------------------------------------------------------------------------------------------------\u001B[0m\n",
      "\u001B[1mText\u001B[0m: Incredibles tops Nemo film record Animated film The Incredibles beats Disney/Pixar's previous US box office record for Finding Nemo.\n",
      "\u001B[1mLabel Name\u001B[0m: World\n",
      "\u001B[1mImportance Value\u001B[0m: 27853.08\n",
      "\u001B[1mSample Index\u001B[0m: 61077\n",
      "\u001B[95m----------------------------------------------------------------------------------------------------\u001B[0m\n",
      "\u001B[1mText\u001B[0m: Tennis: Dementieva triumphs Elena Dementieva beats Jennifer Capriati in a third-set tie-break to set up an all-Russian US Open final .\n",
      "\u001B[1mLabel Name\u001B[0m: World\n",
      "\u001B[1mImportance Value\u001B[0m: 26626.87\n",
      "\u001B[1mSample Index\u001B[0m: 42447\n",
      "\u001B[95m----------------------------------------------------------------------------------------------------\u001B[0m\n",
      "\u001B[1mText\u001B[0m: Tennis: Federer leads Agassi Roger Federer leads Andre Agassi two sets to one before rain interrupts their US Open quarter-final.\n",
      "\u001B[1mLabel Name\u001B[0m: World\n",
      "\u001B[1mImportance Value\u001B[0m: 26395.40\n",
      "\u001B[1mSample Index\u001B[0m: 90762\n",
      "\u001B[95m----------------------------------------------------------------------------------------------------\u001B[0m\n"
     ]
    }
   ],
   "source": [
    "next(top_importance_visualizer)"
   ]
  },
  {
   "cell_type": "markdown",
   "metadata": {
    "pycharm": {
     "name": "#%% md\n"
    }
   },
   "source": [
    "The top importance samples contain mostly examples that are mislabeled. As we can see above, four of the five top important samples are sports related\n",
    "(samples with indices: 89787, 16061, 42447, 90762) while one sample is more related to entartainment or business (sample with index: 61077)."
   ]
  },
  {
   "cell_type": "code",
   "execution_count": 21,
   "metadata": {
    "pycharm": {
     "name": "#%%\n"
    }
   },
   "outputs": [
    {
     "name": "stdout",
     "output_type": "stream",
     "text": [
      "\u001B[1mText\u001B[0m: Kawaguchi out as foreign minister as Koizumi reshuffles cabinet TOKYO - Prime Minister Junichiro Koizumi appointed Nobutaka Machimura to succeed Yoriko Kawaguchi as foreign minister in a cabinet reshuffle Monday, while retaining Chief Cabinet Secretary Hiroyuki Hosoda and Finance Minister Sadakazu Tanigaki.\n",
      "\u001B[1mLabel Name\u001B[0m: World\n",
      "\u001B[1mImportance Value\u001B[0m: 26246.09\n",
      "\u001B[1mSample Index\u001B[0m: 21498\n",
      "\u001B[95m----------------------------------------------------------------------------------------------------\u001B[0m\n",
      "\u001B[1mText\u001B[0m: New browser takes on Microsoft Microsoft's popular Internet Explorer has a serious rival in the Firefox browser.\n",
      "\u001B[1mLabel Name\u001B[0m: World\n",
      "\u001B[1mImportance Value\u001B[0m: 26226.59\n",
      "\u001B[1mSample Index\u001B[0m: 22871\n",
      "\u001B[95m----------------------------------------------------------------------------------------------------\u001B[0m\n",
      "\u001B[1mText\u001B[0m: Tennis: Henman win in US Open Tim Henman reaches the US Open quarter-finals for the first time after Nicolas Kiefer retires injured.\n",
      "\u001B[1mLabel Name\u001B[0m: World\n",
      "\u001B[1mImportance Value\u001B[0m: 25770.52\n",
      "\u001B[1mSample Index\u001B[0m: 96774\n",
      "\u001B[95m----------------------------------------------------------------------------------------------------\u001B[0m\n",
      "\u001B[1mText\u001B[0m: Tennis: Federer beats Henman  Roger Federer sees off Tim Henman in straight sets to reach the US Open final.\n",
      "\u001B[1mLabel Name\u001B[0m: World\n",
      "\u001B[1mImportance Value\u001B[0m: 25680.91\n",
      "\u001B[1mSample Index\u001B[0m: 32200\n",
      "\u001B[95m----------------------------------------------------------------------------------------------------\u001B[0m\n",
      "\u001B[1mText\u001B[0m: Tennis: Agassi rolls on American Andre Agassi defeats Sargis Sargisan to reach the quarter-finals of the US Open.\n",
      "\u001B[1mLabel Name\u001B[0m: World\n",
      "\u001B[1mImportance Value\u001B[0m: 25654.68\n",
      "\u001B[1mSample Index\u001B[0m: 26821\n",
      "\u001B[95m----------------------------------------------------------------------------------------------------\u001B[0m\n"
     ]
    }
   ],
   "source": [
    "next(top_importance_visualizer)"
   ]
  },
  {
   "cell_type": "markdown",
   "metadata": {
    "pycharm": {
     "name": "#%% md\n"
    }
   },
   "source": [
    "As we move down in the sample importance, we observe that correctly labeled samples are also present. For example, the first sample above. However, the\n",
    "majority of the top importance samples are still samples incorrectly labeled."
   ]
  },
  {
   "cell_type": "code",
   "execution_count": 27,
   "metadata": {
    "pycharm": {
     "name": "#%%\n"
    }
   },
   "outputs": [
    {
     "name": "stdout",
     "output_type": "stream",
     "text": [
      "\u001B[1mText\u001B[0m: Schumi storms to Japan win Michael Schumacher wins a record 13th race in a season at the Japanese Grand Prix.\n",
      "\u001B[1mLabel Name\u001B[0m: World\n",
      "\u001B[1mImportance Value\u001B[0m: 25167.29\n",
      "\u001B[1mSample Index\u001B[0m: 48949\n",
      "\u001B[95m----------------------------------------------------------------------------------------------------\u001B[0m\n",
      "\u001B[1mText\u001B[0m: Cricket: England outclass Zim England race to a 2-0 series lead with a comfortable 161-run win over Zimbabwe.\n",
      "\u001B[1mLabel Name\u001B[0m: World\n",
      "\u001B[1mImportance Value\u001B[0m: 25140.16\n",
      "\u001B[1mSample Index\u001B[0m: 81248\n",
      "\u001B[95m----------------------------------------------------------------------------------------------------\u001B[0m\n",
      "\u001B[1mText\u001B[0m: Jets Turn Miami Miscues Into Third Victory The Jets came up with four turnovers by Dolphins quarterback Jay Fiedler in the second half, including an interception returned 66 yards for a touchdown.\n",
      "\u001B[1mLabel Name\u001B[0m: World\n",
      "\u001B[1mImportance Value\u001B[0m: 25024.44\n",
      "\u001B[1mSample Index\u001B[0m: 50674\n",
      "\u001B[95m----------------------------------------------------------------------------------------------------\u001B[0m\n",
      "\u001B[1mText\u001B[0m: Anchor Away Tom Brokaw makes his steady-voiced, flag-waving, NBC-rattling, Rather-and-Jennings-beating exit.\n",
      "\u001B[1mLabel Name\u001B[0m: World\n",
      "\u001B[1mImportance Value\u001B[0m: 25008.79\n",
      "\u001B[1mSample Index\u001B[0m: 2727\n",
      "\u001B[95m----------------------------------------------------------------------------------------------------\u001B[0m\n",
      "\u001B[1mText\u001B[0m: Ice collapse speeds up glaciers The collapse of an Antarctic ice shelf two years ago has accelerated the flow of glaciers into the nearby Weddell Sea.\n",
      "\u001B[1mLabel Name\u001B[0m: World\n",
      "\u001B[1mImportance Value\u001B[0m: 24976.87\n",
      "\u001B[1mSample Index\u001B[0m: 37231\n",
      "\u001B[95m----------------------------------------------------------------------------------------------------\u001B[0m\n"
     ]
    }
   ],
   "source": [
    "next(top_importance_visualizer)"
   ]
  },
  {
   "cell_type": "markdown",
   "metadata": {
    "pycharm": {
     "name": "#%% md\n"
    }
   },
   "source": [
    "Visualising some of the top importance samples above clearly shows that mislabelled samples have a larger importance. This behaviour can be exploited to\n",
    "easily clean up the data.\n",
    "\n",
    "Moreover, by looking at the top importance samples, we can get a better understanding of the dataset. For example, in the examples above, we see that most of\n",
    " the mislabeled \"World\" samples are \"Sports\" examples. We can speculate that this error is cause by an automated labelling algorithm which identifies samples\n",
    "  as \"World\" if the sample contains a person's name, a country name, a location, or other proper names.\n",
    "\n",
    "The main idea is that in the top percentile of the high importance samples, we can find mislabeled or interesting samples that help us debug the labels and understand the dataset better."
   ]
  },
  {
   "cell_type": "code",
   "execution_count": 23,
   "metadata": {
    "pycharm": {
     "name": "#%%\n"
    }
   },
   "outputs": [],
   "source": [
    "bottom_important_raw_train, bottom_important_y_train, bottom_importance_values, bottom_important_sample_indices = get_bottom(important_sample_indices,\n",
    "                                                                                                                             important_sample_values)\n",
    "bottom_importance_visualizer = visualize(\n",
    "    raw_train=bottom_important_raw_train,\n",
    "    y_train=bottom_important_y_train,\n",
    "    importance_values=bottom_importance_values,\n",
    "    sample_indices=bottom_important_sample_indices,\n",
    "    title=\"Bottom Importance\"\n",
    ")"
   ]
  },
  {
   "cell_type": "code",
   "execution_count": 24,
   "metadata": {
    "pycharm": {
     "name": "#%%\n"
    }
   },
   "outputs": [
    {
     "name": "stdout",
     "output_type": "stream",
     "text": [
      "\u001B[95m**************************************** Bottom Importance ****************************************\u001B[0m\n",
      "\u001B[1mText\u001B[0m: Australia probes Iraq bomb blast that produced its first &lt;b&gt;...&lt;/b&gt; SYDNEY : An investigation has been ordered into whether the media was tipped off before a car bombing that caused Australia #39;s first casualties in the Iraq conflict, Foreign Minister Alexander Downer said.\n",
      "\u001B[1mLabel Name\u001B[0m: World\n",
      "\u001B[1mImportance Value\u001B[0m: 8371.24\n",
      "\u001B[1mSample Index\u001B[0m: 62627\n",
      "\u001B[95m----------------------------------------------------------------------------------------------------\u001B[0m\n",
      "\u001B[1mText\u001B[0m: Kuwait Detains Soldiers for Plot Against U.S. Forces  KUWAIT (Reuters) - Kuwaiti security forces have detained up  to eight Kuwaiti soldiers suspected of plotting to attack U.S.  forces in the Gulf Arab state, a security source said on  Monday.\n",
      "\u001B[1mLabel Name\u001B[0m: World\n",
      "\u001B[1mImportance Value\u001B[0m: 8367.15\n",
      "\u001B[1mSample Index\u001B[0m: 44607\n",
      "\u001B[95m----------------------------------------------------------------------------------------------------\u001B[0m\n",
      "\u001B[1mText\u001B[0m: Team of doctors flown to Ramallah to treat Arafat There are reports from the Palestinian territories that the health of leader Yasser Arafat is deteriorating. There has been concern in recent weeks about the Palestinian Authority head #39;s health was worsening \n",
      "\u001B[1mLabel Name\u001B[0m: World\n",
      "\u001B[1mImportance Value\u001B[0m: 8362.20\n",
      "\u001B[1mSample Index\u001B[0m: 19950\n",
      "\u001B[95m----------------------------------------------------------------------------------------------------\u001B[0m\n",
      "\u001B[1mText\u001B[0m: Hamas Member Escapes Damascus Attack, Israel Blamed Syria blamed Israel #39;s Mossad intelligence service for a bombing in Damascus on Monday which a Palestinian source in Beirut said was a failed attempt to kill a member of the militant Hamas group.\n",
      "\u001B[1mLabel Name\u001B[0m: World\n",
      "\u001B[1mImportance Value\u001B[0m: 8357.00\n",
      "\u001B[1mSample Index\u001B[0m: 9959\n",
      "\u001B[95m----------------------------------------------------------------------------------------------------\u001B[0m\n",
      "\u001B[1mText\u001B[0m: Argentine Protesters on Streets Over Fatal Fire  BUENOS AIRES, Argentina (Reuters) - Thousands of Argentines  mourning almost 200 young victims of a rock club fire took to  the streets of Buenos Aires on Monday to protest the  government's safety standards, as the city mayor resisted  pressure to resign.\n",
      "\u001B[1mLabel Name\u001B[0m: World\n",
      "\u001B[1mImportance Value\u001B[0m: 8355.99\n",
      "\u001B[1mSample Index\u001B[0m: 99182\n",
      "\u001B[95m----------------------------------------------------------------------------------------------------\u001B[0m\n"
     ]
    }
   ],
   "source": [
    "next(bottom_importance_visualizer)"
   ]
  },
  {
   "cell_type": "code",
   "execution_count": 25,
   "metadata": {
    "pycharm": {
     "name": "#%%\n"
    }
   },
   "outputs": [
    {
     "name": "stdout",
     "output_type": "stream",
     "text": [
      "\u001B[1mText\u001B[0m: Canada considers fate of suspected NKorean refugees in China &lt;b&gt;...&lt;/b&gt; Canada is facing a diplomatic headache after a group of suspected North Koreans broke into the Canadian Embassy in the Chinese capital, Beijing, on Wednesday.\n",
      "\u001B[1mLabel Name\u001B[0m: World\n",
      "\u001B[1mImportance Value\u001B[0m: 8352.51\n",
      "\u001B[1mSample Index\u001B[0m: 71882\n",
      "\u001B[95m----------------------------------------------------------------------------------------------------\u001B[0m\n",
      "\u001B[1mText\u001B[0m: Pakistan Says 'Important' Al Qaeda Men Arrested (Reuters) Reuters - Pakistani security forces have\\arrested two \"important\" al Qaeda operatives, including an\\Egyptian, a senior official said on Wednesday.\n",
      "\u001B[1mLabel Name\u001B[0m: World\n",
      "\u001B[1mImportance Value\u001B[0m: 8352.26\n",
      "\u001B[1mSample Index\u001B[0m: 58839\n",
      "\u001B[95m----------------------------------------------------------------------------------------------------\u001B[0m\n",
      "\u001B[1mText\u001B[0m: Darfur rebels put forward peace plan at talks in Nigeria : Rebel groups proposed a new peace agreement at talks aimed at restoring calm to Sudan #39;s Darfur region, calling for international peacekeepers and full access for aid groups to all of Darfur.\n",
      "\u001B[1mLabel Name\u001B[0m: World\n",
      "\u001B[1mImportance Value\u001B[0m: 8349.99\n",
      "\u001B[1mSample Index\u001B[0m: 18753\n",
      "\u001B[95m----------------------------------------------------------------------------------------------------\u001B[0m\n",
      "\u001B[1mText\u001B[0m: Sharon seeks support for planned coalition; Gaza violence kills &lt;b&gt;...&lt;/b&gt; JERUSALEM (AFP) - Israeli Prime Minister Ariel Sharon tried to rally support for the building of a new coalition to implement his planned pullout from Gaza, where two Palestinian militants and an Israeli soldier were killed in a new upsurge of violence.\n",
      "\u001B[1mLabel Name\u001B[0m: World\n",
      "\u001B[1mImportance Value\u001B[0m: 8348.96\n",
      "\u001B[1mSample Index\u001B[0m: 3888\n",
      "\u001B[95m----------------------------------------------------------------------------------------------------\u001B[0m\n",
      "\u001B[1mText\u001B[0m: Suicide bomber kills 47 in Baghdad A massive car bomb demolished a streetside market near a police recruiting station in the Iraqi capital yesterday, killing 47 persons and wounding at least 88 -ost of them aspiring officers.\n",
      "\u001B[1mLabel Name\u001B[0m: World\n",
      "\u001B[1mImportance Value\u001B[0m: 8348.19\n",
      "\u001B[1mSample Index\u001B[0m: 93589\n",
      "\u001B[95m----------------------------------------------------------------------------------------------------\u001B[0m\n"
     ]
    }
   ],
   "source": [
    "next(bottom_importance_visualizer)"
   ]
  },
  {
   "cell_type": "code",
   "execution_count": 26,
   "metadata": {
    "pycharm": {
     "name": "#%%\n"
    }
   },
   "outputs": [
    {
     "name": "stdout",
     "output_type": "stream",
     "text": [
      "\u001B[1mText\u001B[0m: Sharon moves to form new coalition after crushing opponents of &lt;b&gt;...&lt;/b&gt; JERUSALEM (AFP) - Israeli Prime Minister Ariel Sharon moved swiftly to forge a national unity government after winning approval to reshape his coalition and crushing internal opposition to his Gaza pullout plan.\n",
      "\u001B[1mLabel Name\u001B[0m: World\n",
      "\u001B[1mImportance Value\u001B[0m: 8345.47\n",
      "\u001B[1mSample Index\u001B[0m: 35860\n",
      "\u001B[95m----------------------------------------------------------------------------------------------------\u001B[0m\n",
      "\u001B[1mText\u001B[0m: Car bomb explodes in Mosul, wounding 5 MOSUL, Iraq -- A car bomb exploded Friday near an American armored vehicle in the northern Iraq city of Mosul, wounding five US soldiers, the military said.\n",
      "\u001B[1mLabel Name\u001B[0m: World\n",
      "\u001B[1mImportance Value\u001B[0m: 8343.28\n",
      "\u001B[1mSample Index\u001B[0m: 56241\n",
      "\u001B[95m----------------------------------------------------------------------------------------------------\u001B[0m\n",
      "\u001B[1mText\u001B[0m: Israeli Soldiers Kill Two Gaza Militants (Reuters) Reuters - Israeli soldiers shot and killed two\\Palestinian militants near a Jewish settlement in the Gaza\\Strip on Tuesday, Palestinian and Israeli sources said.\n",
      "\u001B[1mLabel Name\u001B[0m: World\n",
      "\u001B[1mImportance Value\u001B[0m: 8340.59\n",
      "\u001B[1mSample Index\u001B[0m: 89031\n",
      "\u001B[95m----------------------------------------------------------------------------------------------------\u001B[0m\n",
      "\u001B[1mText\u001B[0m: France in crisis as Iraqis threaten to kill hostages over &lt;b&gt;...&lt;/b&gt; A threat by a militant Islamic group in Iraq to murder two French hostages unless Paris abandons a law banning muslim headscarves in schools was being treated as a national crisis by the French government last night.\n",
      "\u001B[1mLabel Name\u001B[0m: World\n",
      "\u001B[1mImportance Value\u001B[0m: 8335.84\n",
      "\u001B[1mSample Index\u001B[0m: 84421\n",
      "\u001B[95m----------------------------------------------------------------------------------------------------\u001B[0m\n",
      "\u001B[1mText\u001B[0m: Israel launches air raid on Gaza An Israeli helicopter fires missiles into Gaza City as the army steps up operations against Palestinian militants.\n",
      "\u001B[1mLabel Name\u001B[0m: World\n",
      "\u001B[1mImportance Value\u001B[0m: 8331.22\n",
      "\u001B[1mSample Index\u001B[0m: 50155\n",
      "\u001B[95m----------------------------------------------------------------------------------------------------\u001B[0m\n"
     ]
    }
   ],
   "source": [
    "next(bottom_importance_visualizer)"
   ]
  },
  {
   "cell_type": "markdown",
   "metadata": {
    "pycharm": {
     "name": "#%% md\n"
    }
   },
   "source": [
    "In contrast to the top importance samples we previously investigated, the bottom importance samples show only correctly classified samples."
   ]
  },
  {
   "cell_type": "markdown",
   "metadata": {
    "pycharm": {
     "name": "#%% md\n"
    }
   },
   "source": [
    "In conclusion, using the DataHeroes Coresets library, we used an innovative way to find instances with potentially faulty labels. Thus, speeding up the process of debugging and understanding your dataset.\n",
    "\n",
    "After deciding on a class of interest, we used the Coresets logistic regression engine to calculate the important values of our class of interest.\n",
    "\n",
    "Finally, we rendered the top and bottom percentiles using the sorted samples relative to the importance computed by the coresets. We have found wrongly annotated samples within the top percentile of our samples. While in the bottom percentile, we have seen correctly labeled samples."
   ]
  },
  {
   "cell_type": "markdown",
   "metadata": {
    "pycharm": {
     "name": "#%% md\n"
    }
   },
   "source": [
    "# Data cleaning GUI"
   ]
  },
  {
   "cell_type": "markdown",
   "metadata": {
    "pycharm": {
     "name": "#%% md\n"
    }
   },
   "source": [
    "## Evaluate the model on the original data"
   ]
  },
  {
   "cell_type": "code",
   "execution_count": null,
   "metadata": {
    "pycharm": {
     "name": "#%%\n"
    }
   },
   "outputs": [],
   "source": [
    "# Dictionary used for storing the results (balanced accuracy, number of viewed samples, number of cleaned samples)\n",
    "# after every cleaning iteration.\n",
    "results = {\n",
    "    'viewed_samples': [0],\n",
    "    'cleaned_samples': [0],\n",
    "    'balanced_accuracy': defaultdict(list)\n",
    "}\n",
    "\n",
    "# Index for the last current iteration\n",
    "cleaning_iteration = 0\n"
   ]
  },
  {
   "cell_type": "code",
   "execution_count": 21,
   "metadata": {
    "pycharm": {
     "name": "#%%\n"
    }
   },
   "outputs": [
    {
     "name": "stdout",
     "output_type": "stream",
     "text": [
      "..Finished evaluating LG performance using balanced_accuracy...\n",
      "Raw data balanced accuracy: 0.87\n"
     ]
    }
   ],
   "source": [
    "# Evaluate model on original data\n",
    "balanced_accuracy = cross_val(X, y, scoring='balanced_accuracy')\n",
    "results['balanced_accuracy'] = aggregate_scores(balanced_accuracy, results['balanced_accuracy'])\n",
    "print(f\"Raw data balanced accuracy: {balanced_accuracy[of_interest_class_id]:.2f}\")"
   ]
  },
  {
   "cell_type": "markdown",
   "metadata": {
    "pycharm": {
     "name": "#%% md\n"
    }
   },
   "source": [
    "## Create a GUI to help select which sample labels to change or which samples to drop"
   ]
  },
  {
   "cell_type": "markdown",
   "metadata": {
    "pycharm": {
     "name": "#%% md\n"
    }
   },
   "source": [
    "## Helper methods for the cleaning GUI"
   ]
  },
  {
   "cell_type": "code",
   "execution_count": 22,
   "metadata": {
    "pycharm": {
     "name": "#%%\n"
    }
   },
   "outputs": [],
   "source": [
    "def build_coreset_callback():\n",
    "    \"\"\"Rebuild the CoresetTreeServiceLG object using the global X and y data.\"\"\"\n",
    "    global service, X, y\n",
    "    service = build_service(X, y)\n",
    "\n",
    "\n",
    "def cross_val_callback():\n",
    "    \"\"\"\n",
    "    Use the build_service and cross_val functions to perform cross-validation on the input data and stores the\n",
    "    evaluation results in a dictionary.\n",
    "\n",
    "    The function does not take any input parameters explicitly. It uses the following global variables:\n",
    "        X: A numpy array containing the input feature data.\n",
    "        y: A numpy array containing the corresponding label data.\n",
    "        results: A dictionary for storing the evaluation results.\n",
    "\n",
    "    :return:\n",
    "        None\n",
    "    \"\"\"\n",
    "    global X, y, results\n",
    "\n",
    "    score = cross_val(X, y, scoring='balanced_accuracy')\n",
    "    results['balanced_accuracy'] = aggregate_scores(score, results['balanced_accuracy'])\n",
    "\n",
    "\n",
    "def top_important_samples_callback():\n",
    "    \"\"\"\n",
    "    Callback function for printing out the top TOP_N_SAMPLES_VIEWED most important samples for a specific class of interest identified\n",
    "    by of_interest_class_id.\n",
    "\n",
    "    The function does not take any input parameters explicitly. It uses the following global variables:\n",
    "        service: A CoresetTreeServiceLG object for generating coreset and performing cross-validation.\n",
    "        raw_data: A numpy array containing the raw text samples\n",
    "        of_interest_class_id: An integer representing the class ID of interest\n",
    "        TOP_N_SAMPLES_VIEWED: An integer representing the number of top important samples to retrieve\n",
    "        top_important_samples_textarea: A Text TK object\n",
    "\n",
    "    :return:\n",
    "        None\n",
    "    \"\"\"\n",
    "    global service, raw_data, of_interest_class_id, TOP_N_SAMPLES_VIEWED, top_important_samples_textarea\n",
    "    sample_indices = get_top_important_samples(service, of_interest_class_id, TOP_N_SAMPLES_VIEWED)\n",
    "    if not len(sample_indices[0]):\n",
    "        print('--Error! No important samples available. Please rebuild coreset...')\n",
    "        return\n",
    "    if top_important_samples_textarea.compare(\"end-1c\", \"!=\", \"1.0\"):\n",
    "        top_important_samples_textarea.delete(\"1.0\", tk.END)\n",
    "    for sample_index in sample_indices[0]:\n",
    "        # Add some text in the text widget\n",
    "        current_sample_output = f'{sample_index}: {raw_data[sample_index]}\\n******\\n'\n",
    "        top_important_samples_textarea.insert(index=tk.END, chars=current_sample_output)\n",
    "\n",
    "\n",
    "def clean_samples_callback():\n",
    "    \"\"\"\n",
    "    Callback function for cleaning the dataset based on user-defined changes.\n",
    "\n",
    "    This function allows the user to make changes to the label and/or drop samples from the dataset. The user can\n",
    "    specify which samples should be changed to which class and/or dropped from the dataset. The changes are saved to a\n",
    "    JSON file for later inspection.\n",
    "\n",
    "    The function updates the `service` object to take into account the latest label changes and dropped samples. The\n",
    "    `X`, `y`, and `raw_data` arrays are also updated to reflect the changes made by the user.\n",
    "\n",
    "    Additionally, the number of cleaned and viewed samples is appended to the `results` dictionary for later analysis.\n",
    "\n",
    "    The function does not take any input parameters explicitly. It uses the following global variables:\n",
    "        service: A CoresetTreeServiceLG object for generating coreset and performing cross-validation.\n",
    "        raw_data: A numpy array containing the raw text samples\n",
    "        X: A numpy array containing the input feature data.\n",
    "        y: A numpy array containing the corresponding label data.\n",
    "        cleaning_iteration: An integer representing the current cleaning iteration\n",
    "        results: A dictionary for storing the evaluation results.\n",
    "\n",
    "    :return:\n",
    "        None\n",
    "    \"\"\"\n",
    "    global service, raw_data, X, y, cleaning_iteration, results\n",
    "\n",
    "    # Increase cleaning iteration\n",
    "    cleaning_iteration += 1\n",
    "\n",
    "    # Initialize dictionary to store user defined label changes.\n",
    "    # The user can decide to change the label of a sample or to\n",
    "    # drop the sample from the dataset.\n",
    "    cleaned_targets = {\n",
    "        'target_class': of_interest_class_id,\n",
    "        'change_index': {\n",
    "            0: [],\n",
    "            1: [],\n",
    "            2: [],\n",
    "            3: []\n",
    "        },\n",
    "        'drop': []\n",
    "    }\n",
    "\n",
    "    # Extract which samples are to be changed to class 0\n",
    "    class0 = class0_entry.get()\n",
    "    class0 = class0.split(\",\")\n",
    "    if len(class0):\n",
    "        class0 = [int(x) for x in class0 if x != '']\n",
    "    cleaned_targets['change_index'][0] = class0\n",
    "\n",
    "    # Extract which samples are to be changed to class 1\n",
    "    class1 = class1_entry.get()\n",
    "    class1 = class1.split(\",\")\n",
    "    if len(class1):\n",
    "        class1 = [int(x) for x in class1 if x != '']\n",
    "    cleaned_targets['change_index'][1] = class1\n",
    "\n",
    "    # Extract which samples are to be changed to class 2\n",
    "    class2 = class2_entry.get()\n",
    "    class2 = class2.split(\",\")\n",
    "    if len(class2):\n",
    "        class2 = [int(x) for x in class2 if x != '']\n",
    "    cleaned_targets['change_index'][2] = class2\n",
    "\n",
    "    # Extract which samples are to be changed to class 3\n",
    "    class3 = class3_entry.get()\n",
    "    class3 = class3.split(\",\")\n",
    "    if len(class3):\n",
    "        class3 = [int(x) for x in class3 if x != '']\n",
    "    cleaned_targets['change_index'][3] = class3\n",
    "\n",
    "    # Extract which samples are to be dropped from the dataset\n",
    "    drop = drop_entry.get()\n",
    "    drop = drop.split(\",\")\n",
    "    if len(drop):\n",
    "        drop = [int(x) for x in drop if x != '']\n",
    "    cleaned_targets[\"drop\"] = drop\n",
    "\n",
    "    # Save changes to JSON file for later inspection.\n",
    "    with open(os.path.join(DATA_DIR, f'cleaned_samples_{cleaning_iteration}.json'), 'w') as cleaning_samples_file:\n",
    "        json.dump(cleaned_targets, cleaning_samples_file)\n",
    "\n",
    "    # Update the CoresetLG service to take into account the latest label changes\n",
    "    # and dropped samples\n",
    "    service = update_service(service, cleaned_targets)\n",
    "\n",
    "    # Update the labels according to the user corrections\n",
    "    # Change labels\n",
    "    for target_class_id, sample_indices_to_change in cleaned_targets['change_index'].items():\n",
    "        for idx in sample_indices_to_change:\n",
    "            y[idx] = target_class_id\n",
    "\n",
    "    # Drop selected samples\n",
    "    raw_data = np.delete(raw_data, cleaned_targets['drop'], axis=0)\n",
    "    X = np.delete(X, cleaned_targets['drop'], axis=0)\n",
    "    y = np.delete(y, cleaned_targets['drop'], axis=0)\n",
    "\n",
    "    # Append cleaned and viewed samples to the results\n",
    "    cleaned = 0\n",
    "    for v in cleaned_targets['change_index'].values():\n",
    "        cleaned += len(v)\n",
    "    cleaned += len(cleaned_targets['drop'])\n",
    "    results['cleaned_samples'].append(cleaned)\n",
    "    results['viewed_samples'].append(TOP_N_SAMPLES_VIEWED)\n",
    "\n",
    "    print('..Finished cleaning the data...')\n",
    "\n",
    "\n",
    "def plot_performance_callback():\n",
    "    global results, of_interest_class_id, window\n",
    "\n",
    "    # the figure that will contain the plot\n",
    "    fig = Figure(figsize=(5, 5), dpi=100)\n",
    "    chart = fig.add_subplot(111)\n",
    "    chart.plot(list(range(len(results['balanced_accuracy'][of_interest_class_id]))),\n",
    "               results['balanced_accuracy'][of_interest_class_id],\n",
    "               marker=\"+\")\n",
    "    chart.set_xlabel('Iterantion #')\n",
    "    chart.set_ylabel('Balanced accuracy')\n",
    "    canvas = FigureCanvasTkAgg(fig, master=window)\n",
    "    canvas.draw()\n",
    "\n",
    "    # placing the canvas on the Tkinter window\n",
    "    canvas.get_tk_widget().grid(row=6,\n",
    "                                column=5,\n",
    "                                columnspan=2,\n",
    "                                sticky=tk.W,\n",
    "                                pady=4)\n",
    "\n",
    "\n",
    "def plot_viewed_vs_cleaned_samples_callback():\n",
    "    global results, window\n",
    "\n",
    "    # the figure that will contain the plot\n",
    "    fig = Figure(figsize=(5, 5), dpi=100)\n",
    "    chart = fig.add_subplot(111)\n",
    "    chart.plot(np.cumsum(results['viewed_samples']), np.cumsum(results['cleaned_samples']), marker=\"+\")\n",
    "    chart.set_xlabel('Viewed samples')\n",
    "    chart.set_ylabel('Cleaned samples')\n",
    "    canvas = FigureCanvasTkAgg(fig, master=window)\n",
    "    canvas.draw()\n",
    "\n",
    "    # placing the canvas on the Tkinter window\n",
    "    canvas.get_tk_widget().grid(row=6,\n",
    "                                column=8,\n",
    "                                columnspan=2,\n",
    "                                sticky=tk.W,\n",
    "                                pady=4)"
   ]
  },
  {
   "cell_type": "code",
   "execution_count": 23,
   "metadata": {
    "pycharm": {
     "name": "#%%\n"
    },
    "tags": [
     "skip-execution"
    ]
   },
   "outputs": [
    {
     "name": "stdout",
     "output_type": "stream",
     "text": [
      "..Finished updating service...\n",
      "..Finished cleaning the data...\n",
      "..Coreset computed in 11.59 seconds...\n",
      "..Finished evaluating LG performance using balanced_accuracy...\n",
      "..Finished updating service...\n",
      "..Finished cleaning the data...\n",
      "..Coreset computed in 9.80 seconds...\n",
      "..Finished evaluating LG performance using balanced_accuracy...\n",
      "..Finished updating service...\n",
      "..Finished cleaning the data...\n",
      "..Coreset computed in 9.87 seconds...\n",
      "..Finished evaluating LG performance using balanced_accuracy...\n",
      "..Finished updating service...\n",
      "..Finished cleaning the data...\n",
      "..Coreset computed in 9.27 seconds...\n",
      "..Finished evaluating LG performance using balanced_accuracy...\n"
     ]
    }
   ],
   "source": [
    "# Build GUI\n",
    "window = tk.Tk()\n",
    "\n",
    "# Add button to rebuild the coreset\n",
    "tk.Button(master=window,\n",
    "          text='Rebuild corset',\n",
    "          command=build_coreset_callback).grid(row=0,\n",
    "                                               column=0,\n",
    "                                               sticky=tk.W,\n",
    "                                               pady=4)\n",
    "\n",
    "# Add button to generate the top important samples\n",
    "tk.Button(master=window,\n",
    "          text='Top Important Samples',\n",
    "          command=top_important_samples_callback).grid(row=0,\n",
    "                                                       column=1,\n",
    "                                                       sticky=tk.W,\n",
    "                                                       pady=4)\n",
    "# Add button to evaluate the classfier\n",
    "tk.Button(master=window,\n",
    "          text='Evaluate',\n",
    "          command=cross_val_callback).grid(row=0,\n",
    "                                           column=2,\n",
    "                                           sticky=tk.W,\n",
    "                                           pady=4)\n",
    "\n",
    "# Add button to clean the data\n",
    "tk.Button(master=window,\n",
    "          text='Clean data',\n",
    "          command=clean_samples_callback).grid(row=0,\n",
    "                                               column=3,\n",
    "                                               sticky=tk.W,\n",
    "                                               pady=4)\n",
    "\n",
    "# Add input to specify which samples are to be changed to class \"World\".\n",
    "# The input takes the sample ids separated by \",\"\n",
    "tk.Label(master=window,\n",
    "         text=f\"Change to class {DATASET_LEGEND[0]}\").grid(row=1)\n",
    "class0_entry = tk.Entry(master=window)\n",
    "class0_entry.grid(row=1, column=1, sticky=tk.W, pady=4)\n",
    "\n",
    "# Add input to specify which samples are to be changed to class \"Sports\".\n",
    "# The input takes the sample ids separated by \",\"\n",
    "tk.Label(master=window,\n",
    "         text=f\"Change to class {DATASET_LEGEND[1]}\").grid(row=2)\n",
    "class1_entry = tk.Entry(window)\n",
    "class1_entry.grid(row=2, column=1, sticky=tk.W, pady=4)\n",
    "\n",
    "# Add input to specify which samples are to be changed to class \"Business\".\n",
    "# The input takes the sample ids separated by \",\"\n",
    "tk.Label(master=window,\n",
    "         text=f\"Change to class {DATASET_LEGEND[2]}\").grid(row=3)\n",
    "class2_entry = tk.Entry(master=window)\n",
    "class2_entry.grid(row=3, column=1, sticky=tk.W, pady=4)\n",
    "\n",
    "# Add input to specify which samples are to be changed to class \"Sci/Tech\".\n",
    "# The input takes the sample ids separated by \",\"\n",
    "tk.Label(master=window,\n",
    "         text=f\"Change to class {DATASET_LEGEND[3]}\").grid(row=4)\n",
    "class3_entry = tk.Entry(master=window)\n",
    "class3_entry.grid(row=4, column=1, sticky=tk.W, pady=4)\n",
    "\n",
    "# Add input to specify which samples should be dropped.\n",
    "# The input takes the sample ids separated by \",\"\n",
    "tk.Label(master=window,\n",
    "         text=\"Drop samples\").grid(row=5)\n",
    "drop_entry = tk.Entry(master=window)\n",
    "drop_entry.grid(row=5, column=1, sticky=tk.W, pady=4)\n",
    "\n",
    "# Add a Scrollbar(horizontal)\n",
    "scrollbar = tk.Scrollbar(master=window, orient='vertical')\n",
    "# scrollbar.pack(side=tk.RIGHT, fill='y')\n",
    "\n",
    "# Add a text widget\n",
    "top_important_samples_textarea = tk.Text(master=window, font=(\"Arial, 12\"),\n",
    "                                         yscrollcommand=scrollbar.set)\n",
    "top_important_samples_textarea.grid(row=6, column=0, columnspan=3, sticky=tk.W, pady=4)\n",
    "\n",
    "# Attach the scrollbar with the text widget\n",
    "scrollbar.config(command=top_important_samples_textarea.yview)\n",
    "\n",
    "# Add button to display classifier performance for multiple cleaning iterations\n",
    "tk.Button(master=window,\n",
    "          text='Plot performance',\n",
    "          command=plot_performance_callback).grid(row=7,\n",
    "                                                  column=0,\n",
    "                                                  sticky=tk.W,\n",
    "                                                  pady=4)\n",
    "\n",
    "# Add button to display the viewed vs. cleaned number of samples\n",
    "tk.Button(master=window,\n",
    "          text='Plot viewed vs cleaned samples',\n",
    "          command=plot_viewed_vs_cleaned_samples_callback).grid(row=7,\n",
    "                                                                column=1,\n",
    "                                                                sticky=tk.W,\n",
    "                                                                pady=4)\n",
    "\n",
    "tk.mainloop()"
   ]
  }
 ],
 "metadata": {
  "kernelspec": {
   "display_name": "Python 3 (ipykernel)",
   "language": "python",
   "name": "python3"
  },
  "language_info": {
   "codemirror_mode": {
    "name": "ipython",
    "version": 3
   },
   "file_extension": ".py",
   "mimetype": "text/x-python",
   "name": "python",
   "nbconvert_exporter": "python",
   "pygments_lexer": "ipython3",
   "version": "3.9.15"
  },
  "vscode": {
   "interpreter": {
    "hash": "0bf8e7264bfa32cbdf2509bd34cccf6f17d4b6196db745a30500670462284f96"
   }
  }
 },
 "nbformat": 4,
 "nbformat_minor": 2
}

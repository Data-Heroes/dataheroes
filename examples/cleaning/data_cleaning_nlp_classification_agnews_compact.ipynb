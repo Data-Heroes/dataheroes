{
 "cells": [
  {
   "cell_type": "markdown",
   "metadata": {},
   "source": [
    "# Data Cleaning | NLP Classification"
   ]
  },
  {
   "cell_type": "markdown",
   "metadata": {},
   "source": [
    "## The problem"
   ]
  },
  {
   "cell_type": "markdown",
   "metadata": {},
   "source": [
    "Following a data-centric approach, the quality of the machine learning (ML) model is highly dependent on the quality of the data used to train it. Unfortunately, despite curators best efforts, the provided data can still include errors or miss-classifications. It is a well-known issue that data scientists spend more than half their time cleaning the data. One challenge for using a dataset is that there is no \"go-to\" method of finding errors in the dataset, such as faulty labels or samples that do not fit the business use case."
   ]
  },
  {
   "cell_type": "markdown",
   "metadata": {},
   "source": [
    "## The solution: Coresets"
   ]
  },
  {
   "cell_type": "markdown",
   "metadata": {},
   "source": [
    "Coresets refer to a sampling methodology originating in computational geometry used to approximate optimization problems. They are based on selecting a subset of the original dataset that maintains the entire dataset's statistical properties (including the corner cases). Training a model on the Coreset should give the same result as training it on the full dataset.\n",
    "\n",
    "When computing a Coreset, every instance in the dataset is assigned an importance value, which indicates how important it is to the final ML model. Samples that receive a high importance value in the Coreset computation require the attention of the data scientist as they usually indicate a labeling error or other data-related issues. Therefore, leveraging the Coresets, we can easily assign an importance score to each sample. Instances with high importance scores have a high probability of being mislabeled. Thus, we can sample instances of interest by looking at the top percentile of importance.\n",
    "\n",
    "In the end, by speeding up the cleaning process of the dataset, the data scientists can focus on bringing real value and not on curating tasks."
   ]
  },
  {
   "cell_type": "markdown",
   "metadata": {},
   "source": [
    "# The goal of this notebook"
   ]
  },
  {
   "cell_type": "markdown",
   "metadata": {},
   "source": [
    "We will use the Ag News NLP dataset to compute the importance values of all the samples within a class of interest using the coreset logistic regression service. With the help of the important values, we will quickly find samples that are hard to predict or might be mislabeled. Thus, accelerating the cleaning process of the dataset.\n",
    "\n",
    "We preprocessed the text into embedding using a pretrained Bert model. By doing this, we can successfully run a logistic regression coresets service on top of the resulting embeddings."
   ]
  },
  {
   "cell_type": "markdown",
   "metadata": {},
   "source": [
    "# Import Dependencies"
   ]
  },
  {
   "cell_type": "code",
   "execution_count": 1,
   "metadata": {},
   "outputs": [],
   "source": [
    "import json\n",
    "import os\n",
    "import time\n",
    "from collections import defaultdict\n",
    "from pathlib import Path\n",
    "from typing import Tuple\n",
    "\n",
    "import gdown\n",
    "import numpy as np\n",
    "import pandas as pd\n",
    "from matplotlib import pyplot as plt\n",
    "from matplotlib.figure import Figure\n",
    "from sklearn.exceptions import ConvergenceWarning"
   ]
  },
  {
   "cell_type": "code",
   "execution_count": 2,
   "metadata": {},
   "outputs": [],
   "source": [
    "# Import the logistic regression Coreset service, which we will use to find important samples within the dataset.\n",
    "from dataheroes import CoresetTreeServiceLG"
   ]
  },
  {
   "cell_type": "code",
   "execution_count": 3,
   "metadata": {},
   "outputs": [],
   "source": [
    "# Ignore convergence warnings for logistic regression.\n",
    "import warnings\n",
    "\n",
    "warnings.filterwarnings(action='ignore', category=ConvergenceWarning)\n",
    "warnings.filterwarnings(action='ignore', category=UserWarning)"
   ]
  },
  {
   "cell_type": "code",
   "execution_count": 4,
   "metadata": {},
   "outputs": [],
   "source": [
    "# Set a random seed for reproducability.\n",
    "np.random.seed(42)"
   ]
  },
  {
   "cell_type": "markdown",
   "metadata": {},
   "source": [
    "## Create a DataHeroes account\n",
    "If you haven't done this already, please uncomment below lines to create a free DataHeroes account.\n",
    "This step is required only once."
   ]
  },
  {
   "cell_type": "code",
   "execution_count": 5,
   "metadata": {},
   "outputs": [],
   "source": [
    "# from dataheroes.utils import activate_account\n",
    "# activate_account('<your email address>')"
   ]
  },
  {
   "cell_type": "markdown",
   "metadata": {},
   "source": [
    "# Load data"
   ]
  },
  {
   "cell_type": "markdown",
   "metadata": {},
   "source": [
    "### How We Computed the Embeddings 👇\n",
    "\n",
    "\n",
    "The features we will load are already precomputed within a different script. These were computed from the Ag News dataset with the following steps.\n",
    "1. We initialized a pretrained Bert classifier. We dropped the last classification layer to output an embedding instead of the class distribution.\n",
    "2. We passed all the text through the Bert model, which outputs a 768 embedding.\n",
    "\n",
    "**NOTE:** We moved these steps to a different script because it takes a few hours to run. Also, you need a GPU and extra dependencies to run it properly. Thus we wanted to make this notebook as light as possible.\n",
    "\n",
    "The raw dataset represents the actual/raw text used as input to the NLP Bert model."
   ]
  },
  {
   "cell_type": "markdown",
   "metadata": {},
   "source": [
    "The data you need for this notebook is placed [here](https://drive.google.com/drive/folders/1INdDvHDSofByGIqpd7oEwhgYZRsPBFtn).\n",
    "We will download the contents of a folder called AG_News and place the data at data/ag_news.\n",
    "The folder contains four files.\n",
    "- raw_train.npy: Raw text data\n",
    "- x_train.npy: Text embeddings of every sample\n",
    "- y_train.npy: Labels (encoded) for every sample\n",
    "- dataset_legend.json: Original label names.\n",
    "\n",
    "The folder size exceeds 1GB, the download may take a few minutes."
   ]
  },
  {
   "cell_type": "code",
   "execution_count": 6,
   "outputs": [],
   "source": [
    "# Folder identifier on Google Drive\n",
    "AG_NEWS_PUBLIC_DATA_DIR = 'https://drive.google.com/drive/folders/1INdDvHDSofByGIqpd7oEwhgYZRsPBFtn'\n",
    "DOWNLOAD_DATA = True\n",
    "\n",
    "# Location of the preprocessed ag news dataset. Change to your preferred location if needed.\n",
    "DATA_DIR = Path(\"data/ag_news\")"
   ],
   "metadata": {
    "collapsed": false
   }
  },
  {
   "cell_type": "code",
   "execution_count": 7,
   "metadata": {},
   "outputs": [
    {
     "name": "stdout",
     "output_type": "stream",
     "text": [
      "Downloading files...\n"
     ]
    },
    {
     "name": "stderr",
     "output_type": "stream",
     "text": [
      "Retrieving folder list\n"
     ]
    },
    {
     "name": "stdout",
     "output_type": "stream",
     "text": [
      "Processing file 16fL6eK0UsqfgSXWRZfDvvVxc_1bod9oy dataset_legend.json\n",
      "Processing file 19pnD2o1BPO8LGpu6PCuL9FqcqxDNc66Y raw_train.npy\n",
      "Processing file 1PAym7GddBBRKOCrY1IGGNrYfhMvQMmsJ x_train.npy\n",
      "Processing file 1PFeQPyEyZe6E0PVHcT069_HgQDr57A93 y_train.npy\n",
      "Building directory structure completed\n"
     ]
    },
    {
     "name": "stderr",
     "output_type": "stream",
     "text": [
      "Retrieving folder list completed\n",
      "Building directory structure\n",
      "Downloading...\n",
      "From: https://drive.google.com/uc?id=16fL6eK0UsqfgSXWRZfDvvVxc_1bod9oy\n",
      "To: /Users/alonftecha/work/dh/libProject/dh-library/examples/cleaning/examples/data/ag_news/dataset_legend.json\n",
      "100%|██████████| 43.0/43.0 [00:00<00:00, 48.5kB/s]\n",
      "Downloading...\n",
      "From: https://drive.google.com/uc?id=19pnD2o1BPO8LGpu6PCuL9FqcqxDNc66Y\n",
      "To: /Users/alonftecha/work/dh/libProject/dh-library/examples/cleaning/examples/data/ag_news/raw_train.npy\n",
      "100%|██████████| 405M/405M [00:15<00:00, 26.9MB/s] \n",
      "Downloading...\n",
      "From: https://drive.google.com/uc?id=1PAym7GddBBRKOCrY1IGGNrYfhMvQMmsJ\n",
      "To: /Users/alonftecha/work/dh/libProject/dh-library/examples/cleaning/examples/data/ag_news/x_train.npy\n",
      "100%|██████████| 614M/614M [00:20<00:00, 29.6MB/s] \n",
      "Downloading...\n",
      "From: https://drive.google.com/uc?id=1PFeQPyEyZe6E0PVHcT069_HgQDr57A93\n",
      "To: /Users/alonftecha/work/dh/libProject/dh-library/examples/cleaning/examples/data/ag_news/y_train.npy\n",
      "100%|██████████| 800k/800k [00:00<00:00, 2.45MB/s]\n",
      "Download completed\n"
     ]
    }
   ],
   "source": [
    "# Download Data from the DataHeroes public repository\n",
    "if DOWNLOAD_DATA:\n",
    "    print(\"Downloading files...\")\n",
    "    gdown.download_folder(AG_NEWS_PUBLIC_DATA_DIR, output=str(DATA_DIR), use_cookies=False, quiet=False)"
   ]
  },
  {
   "cell_type": "code",
   "execution_count": 8,
   "metadata": {},
   "outputs": [
    {
     "name": "stdout",
     "output_type": "stream",
     "text": [
      "Loaded X - shape = (100000, 768)\n",
      "Loaded y - shape = (100000,)\n",
      "y-label mapping = {0: 'World', 1: 'Sports', 2: 'Business', 3: 'Sci/Tech'}\n"
     ]
    }
   ],
   "source": [
    "# Load data to memory\n",
    "raw_data = np.load(DATA_DIR/\"raw_train.npy\")\n",
    "labels = json.load(open(DATA_DIR/\"dataset_legend.json\"))\n",
    "X = np.load(DATA_DIR/\"x_train.npy\")\n",
    "y = np.load(DATA_DIR/\"y_train.npy\")\n",
    "\n",
    "def decode_label(label_idx):\n",
    "    return labels[label_idx]\n",
    "\n",
    "def encode_label(label):\n",
    "    return labels.index(label)\n",
    "\n",
    "print(f\"Loaded X - shape = {X.shape}\")\n",
    "print(f\"Loaded y - shape = {y.shape}\")\n",
    "print(f'y-label mapping = {dict(enumerate(labels))}')"
   ]
  },
  {
   "cell_type": "markdown",
   "metadata": {},
   "source": [
    "## Visualise the original samples distribution"
   ]
  },
  {
   "cell_type": "code",
   "execution_count": 9,
   "metadata": {},
   "outputs": [
    {
     "data": {
      "text/plain": "Text(0, 0.5, 'Counts')"
     },
     "execution_count": 9,
     "metadata": {},
     "output_type": "execute_result"
    },
    {
     "data": {
      "text/plain": "<Figure size 1152x576 with 1 Axes>",
      "image/png": "[encoded data removed]"
     },
     "metadata": {
      "needs_background": "light"
     },
     "output_type": "display_data"
    }
   ],
   "source": [
    "fig, ax = plt.subplots(figsize=(16, 8))\n",
    "labels_distribution = pd.Series(y).value_counts()\n",
    "labels_distribution.index = [decode_label(class_id) for class_id in labels_distribution.index]\n",
    "labels_distribution.plot.bar()\n",
    "fig.suptitle(\"Text Categories Distribution\", fontsize=20)\n",
    "ax.set_xlabel(\"Category\", fontsize=15)\n",
    "ax.set_ylabel(\"Counts\", fontsize=15)"
   ]
  },
  {
   "cell_type": "markdown",
   "metadata": {},
   "source": [
    "## Pick the class of interest"
   ]
  },
  {
   "cell_type": "code",
   "execution_count": 10,
   "metadata": {},
   "outputs": [
    {
     "name": "stdout",
     "output_type": "stream",
     "text": [
      "Our class of interest is 'World'.\n",
      "It has a total of 24900 samples/text entries.\n"
     ]
    }
   ],
   "source": [
    "of_interest_class_name = 'World'\n",
    "of_interest_class_id = encode_label(of_interest_class_name)\n",
    "\n",
    "print(f\"Our class of interest is '{of_interest_class_name}'.\")\n",
    "print(f\"It has a total of {labels_distribution[of_interest_class_name]} samples/text entries.\")"
   ]
  },
  {
   "cell_type": "markdown",
   "metadata": {},
   "source": [
    "# Compute the Importance Using Coresets\n",
    "\n",
    "With the help of the `CoresetServiceLG` class, we will find the samples of interest within the `of_interest_class_id` class. This service will compute the coreset relative to the given data and logistic regression. Using the coreset, it can assign importance values with the help of which we will find our samples of interest."
   ]
  },
  {
   "cell_type": "code",
   "execution_count": 11,
   "metadata": {},
   "outputs": [
    {
     "name": "stdout",
     "output_type": "stream",
     "text": [
      "Coreset computed in 10.99 seconds\n"
     ]
    }
   ],
   "source": [
    "# Build coreset\n",
    "start_service_time = time.time()\n",
    "\n",
    "service = CoresetTreeServiceLG(optimized_for='cleaning')\n",
    "service.build(X, y)\n",
    "end_service_time = time.time()\n",
    "\n",
    "print(f\"Coreset computed in {end_service_time - start_service_time:.2f} seconds\")"
   ]
  },
  {
   "cell_type": "markdown",
   "metadata": {},
   "source": [
    "## Visualise samples importance"
   ]
  },
  {
   "cell_type": "code",
   "execution_count": 12,
   "metadata": {},
   "outputs": [],
   "source": [
    "# Get samples importance for the class of interest.\n",
    "important_samples = service.get_cleaning_samples(class_size={of_interest_class_id: \"all\"})\n",
    "# if you're interested in getting data for all classes use the size parameter as shown below.\n",
    "# important_samples = service.get_cleaning_samples(size=len(X))\n",
    "important_sample_indices, important_sample_values = important_samples[\"idx\"], important_samples[\"importance\"]"
   ]
  },
  {
   "cell_type": "code",
   "execution_count": 13,
   "metadata": {},
   "outputs": [
    {
     "data": {
      "text/plain": "<Figure size 1152x576 with 1 Axes>",
      "image/png": "[encoded data removed]"
     },
     "metadata": {
      "needs_background": "light"
     },
     "output_type": "display_data"
    }
   ],
   "source": [
    "fig, ax = plt.subplots(1, 1, figsize=(16, 8), constrained_layout=True)\n",
    "fig.suptitle(f\"Coreset Sample Importance Histogram for Class '{of_interest_class_name}'\", fontsize=20)\n",
    "ax.set_xlabel(\"Importance\", fontsize=15)\n",
    "ax.set_ylabel(\"Probability\", fontsize=15)\n",
    "\n",
    "plt.hist(\n",
    "    important_sample_values,\n",
    "    bins=20,\n",
    "    density=False,\n",
    "    weights=np.ones(len(important_sample_values)) / len(important_sample_values)\n",
    ");"
   ]
  },
  {
   "cell_type": "markdown",
   "metadata": {},
   "source": [
    "# Visualise Samples Sorted By Importance\n",
    "\n",
    "We will visualize the data samples from the top and bottom ends of the importance spectrum based on what we computed using the coresets service.\n",
    "\n",
    "One important thing to highlight is that the indices and values returned by the coreset service are already sorted in descending order."
   ]
  },
  {
   "cell_type": "markdown",
   "metadata": {},
   "source": [
    "#### Visualisation Helper Methods\n"
   ]
  },
  {
   "cell_type": "code",
   "execution_count": 14,
   "metadata": {},
   "outputs": [],
   "source": [
    "class bcolors:\n",
    "    \"\"\"Class that aggregates typing constants.\"\"\"\n",
    "\n",
    "    HEADER = '\\033[95m'\n",
    "    BOLD = '\\033[1m'\n",
    "    ENDC = '\\033[0m'\n",
    "\n",
    "\n",
    "def visualize(raw_train: np.ndarray, y_train: np.ndarray, importance_values: np.ndarray, sample_indices: np.array, title: str):\n",
    "    \"\"\"Generator used to visualize the samples and annotations within the Ag News dataset.\"\"\"\n",
    "\n",
    "    print(f\"{bcolors.HEADER}{'*' * 40} {title} {'*' * 40}{bcolors.ENDC}\")\n",
    "\n",
    "    num_sections = len(raw_train) // 5 + 1\n",
    "    chunks_raw_train = np.array_split(raw_train, num_sections)\n",
    "    chunks_y_train = np.array_split(y_train, num_sections)\n",
    "    chunks_importance_values = np.array_split(importance_values, num_sections)\n",
    "    chunks_sample_indices = np.array_split(sample_indices, num_sections)\n",
    "    for chunk_raw_train, chunk_y_train, chunk_importance_values, chunk_sample_indices in zip(chunks_raw_train, chunks_y_train,\n",
    "                                                                                             chunks_importance_values,\n",
    "                                                                                             chunks_sample_indices):\n",
    "        for raw_train, label_id, importance_value, sample_index in zip(chunk_raw_train, chunk_y_train, chunk_importance_values, chunk_sample_indices):\n",
    "            print(f\"{bcolors.BOLD}Text{bcolors.ENDC}: {raw_train}\")\n",
    "            print(f\"{bcolors.BOLD}Label Name{bcolors.ENDC}: {decode_label(label_id)}\")\n",
    "            print(f\"{bcolors.BOLD}Importance Value{bcolors.ENDC}: {importance_value:.2f}\")\n",
    "            print(f\"{bcolors.BOLD}Sample Index{bcolors.ENDC}: {sample_index}\")\n",
    "            print(f\"{bcolors.HEADER}{'-' * 100}{bcolors.ENDC}\")\n",
    "        yield\n",
    "\n",
    "\n",
    "def get_top(indices: np.ndarray, important_values: np.ndarray, n_samples: int):\n",
    "    \"\"\"Utility function that extracts top-importance samples based on the output from the coresets service.\"\"\"\n",
    "\n",
    "    indices = indices[:n_samples]\n",
    "    important_values = important_values[:n_samples]\n",
    "    raw_train = raw_data[indices]\n",
    "    y_train = y[indices]\n",
    "    return raw_train, y_train, important_values, indices\n",
    "\n",
    "\n",
    "def get_bottom(indices: np.ndarray, important_values: np.ndarray, n_samples: int):\n",
    "    \"\"\"Utility function that extracts bottom-importance samples based on the output from the coresets service.\"\"\"\n",
    "\n",
    "    indices = indices[-n_samples:]\n",
    "    important_values = important_values[-n_samples:]\n",
    "    raw_train = raw_data[indices]\n",
    "    y_train = y[indices]\n",
    "    return raw_train, y_train, important_values, indices"
   ]
  },
  {
   "cell_type": "markdown",
   "metadata": {},
   "source": [
    "#### Visualise Top Importance\n",
    "\n",
    "Within the top-importance samples, we will find hard to predict samples or mislabeled samples.\n",
    "\n",
    "Notice how the top importance samples contain examples that are either mislabeled or samples that should be dropped. In contrast, the\n",
    "bottom importance samples primarily contain examples that are correctly classified. Based on this observation, we will proceed with\n",
    "cleaning the data focusing on the top importance samples only."
   ]
  },
  {
   "cell_type": "code",
   "execution_count": 15,
   "metadata": {},
   "outputs": [],
   "source": [
    "top_important_raw_train, top_important_y_train, top_importance_values, top_important_sample_indices = get_top(important_sample_indices, important_sample_values, 150)\n",
    "top_importance_visualizer = visualize(\n",
    "    raw_train=top_important_raw_train,\n",
    "    y_train=top_important_y_train,\n",
    "    importance_values=top_importance_values,\n",
    "    sample_indices=top_important_sample_indices,\n",
    "    title=\"Top Importance\"\n",
    ")"
   ]
  },
  {
   "cell_type": "code",
   "execution_count": 16,
   "metadata": {},
   "outputs": [
    {
     "name": "stdout",
     "output_type": "stream",
     "text": [
      "\u001B[95m**************************************** Top Importance ****************************************\u001B[0m\n",
      "\u001B[1mText\u001B[0m: Massu Defeats Kucera at CA Trophy Olympic champion Nicolas Massu defeated Karol Kucera 6-4, 6-7 (5), 6-4 at the CA Trophy tournament on Tuesday.\n",
      "\u001B[1mLabel Name\u001B[0m: World\n",
      "\u001B[1mImportance Value\u001B[0m: 57342.68\n",
      "\u001B[1mSample Index\u001B[0m: 16061\n",
      "\u001B[95m----------------------------------------------------------------------------------------------------\u001B[0m\n",
      "\u001B[1mText\u001B[0m: Tennis: Sharapova wins finale Maria Sharapova beats Serena Williams 4-6 6-2 6-4 in the Tour Championships final.\n",
      "\u001B[1mLabel Name\u001B[0m: World\n",
      "\u001B[1mImportance Value\u001B[0m: 55705.27\n",
      "\u001B[1mSample Index\u001B[0m: 89787\n",
      "\u001B[95m----------------------------------------------------------------------------------------------------\u001B[0m\n",
      "\u001B[1mText\u001B[0m: Boxing: Williams to face Klitschko Danny Williams will take on WBC world heavyweight champion Vitali Klitschko in December.\n",
      "\u001B[1mLabel Name\u001B[0m: World\n",
      "\u001B[1mImportance Value\u001B[0m: 50820.71\n",
      "\u001B[1mSample Index\u001B[0m: 88811\n",
      "\u001B[95m----------------------------------------------------------------------------------------------------\u001B[0m\n",
      "\u001B[1mText\u001B[0m: Tennis: Henman win in US Open Tim Henman reaches the US Open quarter-finals for the first time after Nicolas Kiefer retires injured.\n",
      "\u001B[1mLabel Name\u001B[0m: World\n",
      "\u001B[1mImportance Value\u001B[0m: 50648.10\n",
      "\u001B[1mSample Index\u001B[0m: 96774\n",
      "\u001B[95m----------------------------------------------------------------------------------------------------\u001B[0m\n",
      "\u001B[1mText\u001B[0m: Paes and Bhupathi beam in on Olympic glory (AFP) AFP - Indian pair Leander Paes and Mahesh Bhupathi took another step nearer an elusive Olympic gold medal when they beat Zimbabwe's Wayne Black and Kevin Ullyett 6-4, 6-4 to reach the men's doubles semi-finals at the Olympic tennis tournament.\n",
      "\u001B[1mLabel Name\u001B[0m: World\n",
      "\u001B[1mImportance Value\u001B[0m: 49906.01\n",
      "\u001B[1mSample Index\u001B[0m: 56650\n",
      "\u001B[95m----------------------------------------------------------------------------------------------------\u001B[0m\n"
     ]
    }
   ],
   "source": [
    "# Print the first 5 most important samples. Repeat below to print more.\n",
    "next(top_importance_visualizer)"
   ]
  },
  {
   "cell_type": "markdown",
   "metadata": {},
   "source": [
    "The top importance samples contain mostly examples that are mislabeled and belong to the Sports class."
   ]
  },
  {
   "cell_type": "markdown",
   "metadata": {},
   "source": [
    "#### Visualise Bottom Importance"
   ]
  },
  {
   "cell_type": "code",
   "execution_count": 17,
   "metadata": {},
   "outputs": [],
   "source": [
    "bottom_important_raw_train, bottom_important_y_train, bottom_importance_values, bottom_important_sample_indices = get_bottom(important_sample_indices,  important_sample_values, 150)\n",
    "bottom_importance_visualizer = visualize(\n",
    "    raw_train=bottom_important_raw_train,\n",
    "    y_train=bottom_important_y_train,\n",
    "    importance_values=bottom_importance_values,\n",
    "    sample_indices=bottom_important_sample_indices,\n",
    "    title=\"Bottom Importance\"\n",
    ")"
   ]
  },
  {
   "cell_type": "code",
   "execution_count": 18,
   "metadata": {},
   "outputs": [
    {
     "name": "stdout",
     "output_type": "stream",
     "text": [
      "\u001B[95m**************************************** Bottom Importance ****************************************\u001B[0m\n",
      "\u001B[1mText\u001B[0m: Israelis Kill Five Palestinians in Gaza Strip  GAZA (Reuters) - Israeli troops killed five armed  Palestinians in the Gaza Strip on Saturday as it pressed on  with a massive offensive aimed at stopping militants firing  rockets into Israel.\n",
      "\u001B[1mLabel Name\u001B[0m: World\n",
      "\u001B[1mImportance Value\u001B[0m: 16066.30\n",
      "\u001B[1mSample Index\u001B[0m: 11519\n",
      "\u001B[95m----------------------------------------------------------------------------------------------------\u001B[0m\n",
      "\u001B[1mText\u001B[0m: Sudan bows to pressure, allows AU to monitor police in Darfur &lt;b&gt;...&lt;/b&gt; KHARTOUM (AFP) - Sudan bowed to mounting pressure over the crisis in Darfur and agreed to allow African Union forces to monitor the activities of its police in camps for displaced persons in the region.\n",
      "\u001B[1mLabel Name\u001B[0m: World\n",
      "\u001B[1mImportance Value\u001B[0m: 16064.61\n",
      "\u001B[1mSample Index\u001B[0m: 36024\n",
      "\u001B[95m----------------------------------------------------------------------------------------------------\u001B[0m\n",
      "\u001B[1mText\u001B[0m: Ten killed in US air strike, bombing in Iraq MOSUL (Iraq): Two people were killed and five wounded Monday when a car bomb hit an Iraqi national guard patrol in the northern city of Mosul, security and medical sources said.\n",
      "\u001B[1mLabel Name\u001B[0m: World\n",
      "\u001B[1mImportance Value\u001B[0m: 16061.01\n",
      "\u001B[1mSample Index\u001B[0m: 5364\n",
      "\u001B[95m----------------------------------------------------------------------------------------------------\u001B[0m\n",
      "\u001B[1mText\u001B[0m: Israel Kills Top Hamas Militant Ahead of Gaza Vote  GAZA (Reuters) - Israel killed the top bomb maker of the  Hamas Islamic militant group in a Gaza Strip air strike on  Thursday, days before a key parliamentary vote on Prime  Minister Ariel Sharon's plan to quit the occupied territory.\n",
      "\u001B[1mLabel Name\u001B[0m: World\n",
      "\u001B[1mImportance Value\u001B[0m: 16039.31\n",
      "\u001B[1mSample Index\u001B[0m: 93289\n",
      "\u001B[95m----------------------------------------------------------------------------------------------------\u001B[0m\n",
      "\u001B[1mText\u001B[0m: Russia in shock as school hostage drama looms Iran condemns Moscow &lt;b&gt;...&lt;/b&gt; MOSCOW, Russia (Agencies) -- Seven people were killed as armed attackers stormed a school in southern Russia and took at least 100 people hostage on Wednesday, Russian media reported.\n",
      "\u001B[1mLabel Name\u001B[0m: World\n",
      "\u001B[1mImportance Value\u001B[0m: 16035.59\n",
      "\u001B[1mSample Index\u001B[0m: 51960\n",
      "\u001B[95m----------------------------------------------------------------------------------------------------\u001B[0m\n"
     ]
    }
   ],
   "source": [
    "# Print the 5 least important samples. Repeat below to print more.\n",
    "next(bottom_importance_visualizer)"
   ]
  },
  {
   "cell_type": "markdown",
   "metadata": {},
   "source": [
    "In contrast to the top importance samples we previously investigated, the bottom importance samples show only correctly classified samples."
   ]
  },
  {
   "cell_type": "markdown",
   "metadata": {},
   "source": [
    "## Fix some samples\n",
    "Based on the above top important samples, we can see that all should be relabeled as ‘Sports’.\n",
    "We will update the label to some of these samples and in addition, we will remove some samples from the dataset, just to simulate this functionality."
   ]
  },
  {
   "cell_type": "code",
   "execution_count": 19,
   "metadata": {
    "collapsed": false,
    "jupyter": {
     "outputs_hidden": false
    }
   },
   "outputs": [],
   "source": [
    "# Take the top 3 important samples and update their label to Sports.\n",
    "indices_to_fix = [89787, 16061, 61077]  # Top 3\n",
    "new_labels = ['Sports', 'Sports', 'Sports']\n",
    "# encode new_labels\n",
    "new_labels_ids = [encode_label(c) for c in new_labels]\n",
    "service.update_targets(indices_to_fix, new_labels_ids)\n",
    "\n",
    "# Take 2 samples and remove them from the tree.\n",
    "indices_to_remove = [42447, 90762]\n",
    "service.remove_samples(indices_to_remove)"
   ]
  }
 ],
 "metadata": {
  "kernelspec": {
   "display_name": "Python 3 (ipykernel)",
   "language": "python",
   "name": "python3"
  },
  "language_info": {
   "codemirror_mode": {
    "name": "ipython",
    "version": 3
   },
   "file_extension": ".py",
   "mimetype": "text/x-python",
   "name": "python",
   "nbconvert_exporter": "python",
   "pygments_lexer": "ipython3",
   "version": "3.9.9"
  },
  "vscode": {
   "interpreter": {
    "hash": "0bf8e7264bfa32cbdf2509bd34cccf6f17d4b6196db745a30500670462284f96"
   }
  }
 },
 "nbformat": 4,
 "nbformat_minor": 4
}

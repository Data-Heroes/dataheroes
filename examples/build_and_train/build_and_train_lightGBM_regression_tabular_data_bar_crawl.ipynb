{
 "cells": [
  {
   "cell_type": "markdown",
   "metadata": {
    "tags": []
   },
   "source": [
    "# Build and Train Decision Trees for Regression Problems\n",
    "## Purpose\n",
    "In this example we will demonstrate how to:\n",
    "   - Build a coreset tree for regression decision trees based on a real-world dataset.\n",
    "   - Perform coreset tree vs. entire train dataset vs. random selection comparison as follows:\n",
    "      - Build an LGBMRegressor model using the coreset tree service method\n",
    "      - Build an LGBMRegressor model on the entire train dataset.\n",
    "      - Build an LGBMRegressor model on a randomly-sampled train dataset, where the sample size exactly matches coreset size.\n",
    "      - Build an LGBMRegressor model on a randomly-sampled train dataset, where the sample size is large-enough to strive to match the quality of using the coreset from the coreset tree.\n",
    "      - Compare the quality of all four models built.\n",
    "   - Employ coreset tree's utility functions for saving, loading and plotting the coreset tree.\n",
    "\n",
    "In this example we'll be using the Bar Crawl dataset (https://archive.ics.uci.edu/ml/datasets/Bar+Crawl%3A+Detecting+Heavy+Drinking) after we’ve performed some feature engineering on the data. We have about 250K instances in the train set and about 28K in the test set. Our comparisons will utilize the mean squared error (https://scikit-learn.org/stable/modules/generated/sklearn.metrics.mean_squared_error.html) as the evaluation metric.\n"
   ]
  },
  {
   "cell_type": "code",
   "execution_count": 1,
   "metadata": {
    "ExecuteTime": {
     "end_time": "2023-12-01T20:11:45.725949200Z",
     "start_time": "2023-12-01T20:11:41.535738Z"
    }
   },
   "outputs": [],
   "source": [
    "import os\n",
    "import warnings\n",
    "from time import time\n",
    "import pathlib\n",
    "\n",
    "import numpy as np\n",
    "import pandas as pd\n",
    "from pathlib import Path\n",
    "\n",
    "from sklearn.metrics import  mean_squared_error\n",
    "from lightgbm import LGBMRegressor\n",
    "import gdown\n",
    "\n",
    "from dataheroes import CoresetTreeServiceDTR\n",
    "\n",
    "warnings.simplefilter('ignore', DeprecationWarning)"
   ]
  },
  {
   "cell_type": "code",
   "execution_count": 2,
   "metadata": {
    "ExecuteTime": {
     "end_time": "2023-12-01T20:12:04.154708900Z",
     "start_time": "2023-12-01T20:11:45.732946400Z"
    }
   },
   "outputs": [],
   "source": [
    "# public folder on Google drive with data\n",
    "url = \"https://drive.google.com/drive/folders/1c49gInO2rTqerxXggEVd58EcstN304zD\"\n",
    "# create local data folder\n",
    "data_path = pathlib.Path('data/BarCrawl')\n",
    "data_path.mkdir(parents=True, exist_ok=True)\n",
    "# download files\n",
    "if not os.path.exists(str(data_path / \"x_train.npy\")):\n",
    "    gdown.download_folder(url, quiet=True, use_cookies=False, output=str(data_path))\n",
    "# load data to the memory\n",
    "x_train = np.load(str(data_path / \"x_train.npy\"), allow_pickle=True)\n",
    "x_test = np.load(str(data_path / \"x_test.npy\"), allow_pickle=True)\n",
    "y_train = np.load(str(data_path / \"y_train.npy\"))\n",
    "y_test = np.load(str(data_path / \"y_test.npy\"))\n",
    "\n",
    "# Convert to pandas dataframe\n",
    "x_train = pd.DataFrame(x_train)\n",
    "x_test = pd.DataFrame(x_test)\n",
    "y_train = pd.DataFrame(y_train)\n",
    "y_test = pd.DataFrame(y_test)"
   ]
  },
  {
   "cell_type": "markdown",
   "metadata": {
    "tags": []
   },
   "source": [
    "## 1. Prepare the dataset & the testing environment"
   ]
  },
  {
   "cell_type": "code",
   "execution_count": 3,
   "metadata": {
    "ExecuteTime": {
     "end_time": "2023-12-01T20:12:04.184517700Z",
     "start_time": "2023-12-01T20:12:04.161717Z"
    }
   },
   "outputs": [
    {
     "name": "stdout",
     "output_type": "stream",
     "text": [
      "train size=251,707, test size=27,968\n"
     ]
    }
   ],
   "source": [
    "\n",
    "print(f\"train size={len(x_train):,}, test size={len(x_test):,}\")\n",
    "\n",
    "# Define the number of estimators for LightGBM.\n",
    "# The higher the number of estimators, the better the results will be (but the longer the time will take).\n",
    "n_estimators = 500\n",
    "learning_rate = 0.01\n",
    "\n",
    "# Set the tree access level which we will be working with (default is 0=root node).\n",
    "tree_query_level = 0\n",
    "\n",
    "# Remember the number of samples for the full dataset.\n",
    "n_samples_full = len(y_train)\n",
    "\n",
    "# Define the number of samples for the comparison flavour in which a randomly-selected dataset is striving to resemble coreset dataset's quality.\n",
    "n_samples_rand_large = int(n_samples_full * 0.3)\n",
    "\n",
    "# Define method for summarizing every flavour's experimental results in one neat table.\n",
    "def produce_results(experiment_group : str,\n",
    "                    n_samp_full : int, n_samp_rand_large : int, n_samp_coreset : int,\n",
    "                    full_score : float, rand_large_score : float, rand_csize_score : float, coreset_score : float, \n",
    "                    full_secs : float, rand_large_secs : float, rand_csize_secs : float, coreset_secs : float, \n",
    "                    ):\n",
    "\n",
    "    df = pd.DataFrame(data={\n",
    "        ' ': ['Full dataset', 'Random bigger-sized sample', 'Random smaller-sized sample', 'Coreset'],\n",
    "        'Training dataset size': [n_samp_full, n_samp_rand_large, n_samp_coreset, n_samp_coreset],\n",
    "        '% of full dataset': [n_samp_full / n_samp_full, n_samp_rand_large / n_samp_full, n_samp_coreset / n_samp_full, n_samp_coreset / n_samp_full],\n",
    "        'Mean Square Error': [full_score, rand_large_score, rand_csize_score, coreset_score],\n",
    "        'Training time (sec)': [full_secs, rand_large_secs, rand_csize_secs, coreset_secs],\n",
    "    })\n",
    "    last_row = pd.IndexSlice[df.index[-1], :]\n",
    "    styles = [dict(selector=\"caption\", props=[(\"text-align\", \"center\"), (\"font-size\", \"120%\"), (\"font-weight\", \"bold\")])]\n",
    "    s  = df.style \\\n",
    "        .set_properties(subset=[' '],**{'text-align':'left'}) \\\n",
    "        .set_properties(subset=['Training dataset size','% of full dataset','Mean Square Error','Training time (sec)'],**{'text-align':'right'}) \\\n",
    "        .set_properties(subset=last_row, **{'color':'green', 'font-weight':'bold'}) \\\n",
    "        .set_caption(f\"{experiment_group} Results\") \\\n",
    "        .format({\n",
    "        'Training dataset size': '{:,}',\n",
    "        '% of full dataset': '{:.2%}',\n",
    "        'Mean Square Error': '{:.4f}',\n",
    "        'Training time (sec)': '{:.2f}'}) \\\n",
    "        .hide(axis='index') \\\n",
    "        .set_table_styles(styles)\n",
    "    return s"
   ]
  },
  {
   "cell_type": "markdown",
   "metadata": {},
   "source": [
    "## 2. Build and train the coreset tree\n",
    "Create a new service object and run `build` directly on the X, y train data.\n",
    "We pass `n_instances` to initialize the coreset tree.\n",
    "\n",
    "### 2.1. Build the coreset\n"
   ]
  },
  {
   "cell_type": "code",
   "execution_count": 4,
   "metadata": {
    "ExecuteTime": {
     "end_time": "2023-12-01T20:13:59.771068600Z",
     "start_time": "2023-12-01T20:12:04.171988600Z"
    }
   },
   "outputs": [
    {
     "name": "stdout",
     "output_type": "stream",
     "text": [
      "Coreset build time (sec): 8.97\n"
     ]
    }
   ],
   "source": [
    "t = time()\n",
    "service_obj = CoresetTreeServiceDTR(optimized_for='training',\n",
    "                                    n_instances=n_samples_full,\n",
    "                                    model_cls=LGBMRegressor,\n",
    "                                   )\n",
    "# We pass copy=True so the build function won’t change X_train and y_train\n",
    "# as they’re used later on to train the model on the entire dataset and random samples.\n",
    "service_obj.build_from_df(x_train, y_train, copy=True)\n",
    "coreset_build_secs = time() - t\n",
    "print(f\"Coreset build time (sec): {coreset_build_secs:.2f}\")"
   ]
  },
  {
   "cell_type": "markdown",
   "metadata": {},
   "source": [
    "### 2.2 Train a model directly on the coreset tree service object"
   ]
  },
  {
   "cell_type": "code",
   "execution_count": 5,
   "metadata": {
    "ExecuteTime": {
     "end_time": "2023-12-01T20:14:00.860141900Z",
     "start_time": "2023-12-01T20:13:59.748066200Z"
    }
   },
   "outputs": [
    {
     "name": "stdout",
     "output_type": "stream",
     "text": [
      "Using LGBMRegressor model.\n",
      "[LightGBM] [Info] Auto-choosing col-wise multi-threading, the overhead of testing was 0.000835 seconds.\n",
      "You can set `force_col_wise=true` to remove the overhead.\n",
      "[LightGBM] [Info] Total Bins 12238\n",
      "[LightGBM] [Info] Number of data points in the train set: 1179, number of used features: 48\n",
      "[LightGBM] [Info] Start training from score 1.111076\n"
     ]
    }
   ],
   "source": [
    "t = time()\n",
    "# Ignore LightGBM's warning about the requirement to pass the 'sample_weight' \n",
    "# as a keyword arg and not as a positional arg.\n",
    "warnings.filterwarnings(action='ignore', category=FutureWarning)\n",
    "\n",
    "# Please note the direct usage of \"service_obj.fit()\".\n",
    "# Provide the same parameters to the fit method as you'd provide for the model generation and \n",
    "# for tree access (required tree level).\n",
    "service_obj.fit(level=tree_query_level,\n",
    "                n_estimators=n_estimators,\n",
    "                learning_rate=learning_rate,\n",
    "               )\n",
    "coreset_secs = time() - t"
   ]
  },
  {
   "cell_type": "markdown",
   "metadata": {},
   "source": [
    "## 3. Train the models using traditional sampling methods\n",
    "### 3.1. Train a model on the entire dataset (for comparison)\n",
    "We use the same (entire) training part of the dataset that was used for building the coreset tree."
   ]
  },
  {
   "cell_type": "code",
   "execution_count": 6,
   "metadata": {
    "ExecuteTime": {
     "end_time": "2023-12-01T20:14:16.354744700Z",
     "start_time": "2023-12-01T20:14:01.475743800Z"
    }
   },
   "outputs": [
    {
     "name": "stdout",
     "output_type": "stream",
     "text": [
      "[LightGBM] [Info] Auto-choosing col-wise multi-threading, the overhead of testing was 0.043063 seconds.\n",
      "You can set `force_col_wise=true` to remove the overhead.\n",
      "[LightGBM] [Info] Total Bins 12240\n",
      "[LightGBM] [Info] Number of data points in the train set: 251707, number of used features: 48\n",
      "[LightGBM] [Info] Start training from score -0.036432\n"
     ]
    }
   ],
   "source": [
    "t = time()\n",
    "# Train an LightGBM model on the entire data-set.\n",
    "full_model = LGBMRegressor(n_estimators=n_estimators, learning_rate=learning_rate)\n",
    "full_model.fit(x_train, y_train)\n",
    "full_secs = time() - t"
   ]
  },
  {
   "cell_type": "markdown",
   "metadata": {},
   "source": [
    "### 3.2. Train models on samples selected randomly from the training set\n",
    "\n",
    "### 3.2.1. Produce a randomly-selected sample matching the coreset's size"
   ]
  },
  {
   "cell_type": "code",
   "execution_count": 7,
   "metadata": {
    "ExecuteTime": {
     "end_time": "2023-12-01T20:14:17.396198200Z",
     "start_time": "2023-12-01T20:14:16.356758500Z"
    }
   },
   "outputs": [
    {
     "name": "stdout",
     "output_type": "stream",
     "text": [
      "[LightGBM] [Info] Auto-choosing col-wise multi-threading, the overhead of testing was 0.000439 seconds.\n",
      "You can set `force_col_wise=true` to remove the overhead.\n",
      "[LightGBM] [Info] Total Bins 12240\n",
      "[LightGBM] [Info] Number of data points in the train set: 1179, number of used features: 48\n",
      "[LightGBM] [Info] Start training from score -0.029000\n"
     ]
    }
   ],
   "source": [
    "#We get the number of samples in the coreset, so we can randomly sample the same number of samples from the full dataset.\n",
    "n_samples_coreset = service_obj.get_coreset_size(tree_query_level)\n",
    "t = time()\n",
    "# Train an LightGBM model on the random data-set -\n",
    "# (1) Create the model, (2) randomly sample the exact size as the coreset size, and (3) train the model.\n",
    "rand_csize_model = LGBMRegressor(\n",
    "                            n_estimators=n_estimators,\n",
    "                            learning_rate=learning_rate\n",
    "                            )\n",
    "rand_csize_idxs = np.random.choice(n_samples_full, n_samples_coreset, replace=False)\n",
    "rand_csize_model.fit(x_train.iloc[rand_csize_idxs, :], y_train.iloc[rand_csize_idxs,:])\n",
    "rand_csize_secs = time() - t"
   ]
  },
  {
   "cell_type": "markdown",
   "metadata": {},
   "source": [
    "### 3.2.2. Produce a randomly-selected sample striving to match coreset's quality"
   ]
  },
  {
   "cell_type": "code",
   "execution_count": 8,
   "metadata": {
    "ExecuteTime": {
     "end_time": "2023-12-01T20:14:23.056927500Z",
     "start_time": "2023-12-01T20:14:17.366632400Z"
    }
   },
   "outputs": [
    {
     "name": "stdout",
     "output_type": "stream",
     "text": [
      "[LightGBM] [Info] Auto-choosing col-wise multi-threading, the overhead of testing was 0.012217 seconds.\n",
      "You can set `force_col_wise=true` to remove the overhead.\n",
      "[LightGBM] [Info] Total Bins 12240\n",
      "[LightGBM] [Info] Number of data points in the train set: 75512, number of used features: 48\n",
      "[LightGBM] [Info] Start training from score -0.036338\n"
     ]
    }
   ],
   "source": [
    "t = time()\n",
    "# Train an LightGBM model on the random data-set -\n",
    "# (1) Create the model, (2) randomly sample size larger than the coreset size, and (3) train the model.\n",
    "rand_large_model = LGBMRegressor(\n",
    "                            n_estimators=n_estimators,\n",
    "                            learning_rate=learning_rate\n",
    "                            )\n",
    "rand_large_idxs = np.random.choice(n_samples_full, n_samples_rand_large, replace=False)\n",
    "rand_large_model.fit(x_train.iloc[rand_large_idxs, :], y_train.iloc[rand_large_idxs,:])\n",
    "rand_large_secs = time() - t"
   ]
  },
  {
   "cell_type": "markdown",
   "metadata": {},
   "source": [
    "## 4. Tree-based coreset performance comparison: coreset tree's default fit modeling approach\n"
   ]
  },
  {
   "cell_type": "markdown",
   "metadata": {},
   "source": [
    "### 4.1. Compare models quality\n",
    "Test coreset, random samples and full models on a test dataset, and compare their evaluation scores."
   ]
  },
  {
   "cell_type": "code",
   "execution_count": 9,
   "metadata": {
    "ExecuteTime": {
     "end_time": "2023-12-01T20:14:28.534916Z",
     "start_time": "2023-12-01T20:14:23.062926500Z"
    }
   },
   "outputs": [
    {
     "data": {
      "text/html": [
       "<style type=\"text/css\">\n",
       "#T_f3f22 caption {\n",
       "  text-align: center;\n",
       "  font-size: 120%;\n",
       "  font-weight: bold;\n",
       "}\n",
       "#T_f3f22_row0_col0, #T_f3f22_row1_col0, #T_f3f22_row2_col0 {\n",
       "  text-align: left;\n",
       "}\n",
       "#T_f3f22_row0_col1, #T_f3f22_row0_col2, #T_f3f22_row0_col3, #T_f3f22_row0_col4, #T_f3f22_row1_col1, #T_f3f22_row1_col2, #T_f3f22_row1_col3, #T_f3f22_row1_col4, #T_f3f22_row2_col1, #T_f3f22_row2_col2, #T_f3f22_row2_col3, #T_f3f22_row2_col4 {\n",
       "  text-align: right;\n",
       "}\n",
       "#T_f3f22_row3_col0 {\n",
       "  text-align: left;\n",
       "  color: green;\n",
       "  font-weight: bold;\n",
       "}\n",
       "#T_f3f22_row3_col1, #T_f3f22_row3_col2, #T_f3f22_row3_col3, #T_f3f22_row3_col4 {\n",
       "  text-align: right;\n",
       "  color: green;\n",
       "  font-weight: bold;\n",
       "}\n",
       "</style>\n",
       "<table id=\"T_f3f22\">\n",
       "  <caption>LGBMRegressor Results</caption>\n",
       "  <thead>\n",
       "    <tr>\n",
       "      <th id=\"T_f3f22_level0_col0\" class=\"col_heading level0 col0\" > </th>\n",
       "      <th id=\"T_f3f22_level0_col1\" class=\"col_heading level0 col1\" >Training dataset size</th>\n",
       "      <th id=\"T_f3f22_level0_col2\" class=\"col_heading level0 col2\" >% of full dataset</th>\n",
       "      <th id=\"T_f3f22_level0_col3\" class=\"col_heading level0 col3\" >Mean Square Error</th>\n",
       "      <th id=\"T_f3f22_level0_col4\" class=\"col_heading level0 col4\" >Training time (sec)</th>\n",
       "    </tr>\n",
       "  </thead>\n",
       "  <tbody>\n",
       "    <tr>\n",
       "      <td id=\"T_f3f22_row0_col0\" class=\"data row0 col0\" >Full dataset</td>\n",
       "      <td id=\"T_f3f22_row0_col1\" class=\"data row0 col1\" >251,707</td>\n",
       "      <td id=\"T_f3f22_row0_col2\" class=\"data row0 col2\" >100.00%</td>\n",
       "      <td id=\"T_f3f22_row0_col3\" class=\"data row0 col3\" >0.8972</td>\n",
       "      <td id=\"T_f3f22_row0_col4\" class=\"data row0 col4\" >7.88</td>\n",
       "    </tr>\n",
       "    <tr>\n",
       "      <td id=\"T_f3f22_row1_col0\" class=\"data row1 col0\" >Random bigger-sized sample</td>\n",
       "      <td id=\"T_f3f22_row1_col1\" class=\"data row1 col1\" >75,512</td>\n",
       "      <td id=\"T_f3f22_row1_col2\" class=\"data row1 col2\" >30.00%</td>\n",
       "      <td id=\"T_f3f22_row1_col3\" class=\"data row1 col3\" >0.9218</td>\n",
       "      <td id=\"T_f3f22_row1_col4\" class=\"data row1 col4\" >3.18</td>\n",
       "    </tr>\n",
       "    <tr>\n",
       "      <td id=\"T_f3f22_row2_col0\" class=\"data row2 col0\" >Random smaller-sized sample</td>\n",
       "      <td id=\"T_f3f22_row2_col1\" class=\"data row2 col1\" >1,179</td>\n",
       "      <td id=\"T_f3f22_row2_col2\" class=\"data row2 col2\" >0.47%</td>\n",
       "      <td id=\"T_f3f22_row2_col3\" class=\"data row2 col3\" >0.9324</td>\n",
       "      <td id=\"T_f3f22_row2_col4\" class=\"data row2 col4\" >0.65</td>\n",
       "    </tr>\n",
       "    <tr>\n",
       "      <td id=\"T_f3f22_row3_col0\" class=\"data row3 col0\" >Coreset</td>\n",
       "      <td id=\"T_f3f22_row3_col1\" class=\"data row3 col1\" >1,179</td>\n",
       "      <td id=\"T_f3f22_row3_col2\" class=\"data row3 col2\" >0.47%</td>\n",
       "      <td id=\"T_f3f22_row3_col3\" class=\"data row3 col3\" >0.4912</td>\n",
       "      <td id=\"T_f3f22_row3_col4\" class=\"data row3 col4\" >0.96</td>\n",
       "    </tr>\n",
       "  </tbody>\n",
       "</table>\n"
      ],
      "text/plain": [
       "<pandas.io.formats.style.Styler at 0x7ff01f2c09a0>"
      ]
     },
     "execution_count": 9,
     "metadata": {},
     "output_type": "execute_result"
    }
   ],
   "source": [
    "# Evaluate models. Please note the direct usage of \"service_obj.predict()\".\n",
    "full_score = mean_squared_error(y_test, full_model.predict(x_test))\n",
    "rand_large_score = mean_squared_error(y_test, rand_large_model.predict(x_test))\n",
    "rand_csize_score = mean_squared_error(y_test, rand_csize_model.predict(x_test))\n",
    "# pass original data to predict, due to its build-in preprocessing\n",
    "coreset_score = mean_squared_error(y_test, service_obj.predict(x_test, copy=True))\n",
    "produce_results(\"LGBMRegressor\",\n",
    "                n_samples_full, n_samples_rand_large, n_samples_coreset,\n",
    "                full_score, rand_large_score, rand_csize_score, coreset_score, \n",
    "                full_secs, rand_large_secs, rand_csize_secs, coreset_secs, \n",
    ")"
   ]
  },
  {
   "cell_type": "markdown",
   "metadata": {},
   "source": [
    "## 5. Tree utilities\n",
    "\n",
    "### 5.1. Save the tree for future use"
   ]
  },
  {
   "cell_type": "code",
   "execution_count": 10,
   "metadata": {
    "ExecuteTime": {
     "end_time": "2023-12-01T20:14:28.798246Z",
     "start_time": "2023-12-01T20:14:28.509597800Z"
    }
   },
   "outputs": [
    {
     "data": {
      "text/plain": [
       "PosixPath('output/train_coreset_tree')"
      ]
     },
     "execution_count": 10,
     "metadata": {},
     "output_type": "execute_result"
    }
   ],
   "source": [
    "out_dir = Path('output')\n",
    "out_dir.mkdir(exist_ok=True)\n",
    "save_tree_name = 'train_coreset_tree'\n",
    "service_obj.save(out_dir, save_tree_name, override=True)"
   ]
  },
  {
   "cell_type": "markdown",
   "metadata": {},
   "source": [
    "### 5.2. Load the saved tree"
   ]
  },
  {
   "cell_type": "code",
   "execution_count": 11,
   "metadata": {
    "ExecuteTime": {
     "end_time": "2023-12-01T20:14:29.051765200Z",
     "start_time": "2023-12-01T20:14:28.775685Z"
    }
   },
   "outputs": [],
   "source": [
    "service_obj = CoresetTreeServiceDTR.load(out_dir, save_tree_name)"
   ]
  },
  {
   "cell_type": "markdown",
   "metadata": {},
   "source": [
    "### 5.3. Plot the tree\n",
    "Plot the tree to show the loading from files was properly done and to visualize the way the data is structured inside it."
   ]
  },
  {
   "cell_type": "code",
   "execution_count": 12,
   "metadata": {
    "ExecuteTime": {
     "end_time": "2023-12-01T20:14:30.258169200Z",
     "start_time": "2023-12-01T20:14:29.054270200Z"
    }
   },
   "outputs": [
    {
     "data": {
      "text/plain": [
       "{'training': PosixPath('output/training_tree_20231204_223554.png')}"
      ]
     },
     "execution_count": 12,
     "metadata": {},
     "output_type": "execute_result"
    },
    {
     "data": {
      "image/png": "[encoded data removed]",
      "text/plain": [
       "<Figure size 1152x691.2 with 1 Axes>"
      ]
     },
     "metadata": {},
     "output_type": "display_data"
    }
   ],
   "source": [
    "output_dir = Path('output')\n",
    "output_dir.mkdir(exist_ok=True)\n",
    "service_obj.plot(output_dir)"
   ]
  },
  {
   "cell_type": "markdown",
   "metadata": {},
   "source": [
    "### 5.4. Save coreset for future use"
   ]
  },
  {
   "cell_type": "code",
   "execution_count": 13,
   "metadata": {
    "ExecuteTime": {
     "end_time": "2023-12-01T20:14:31.883932Z",
     "start_time": "2023-12-01T20:14:30.257166700Z"
    }
   },
   "outputs": [],
   "source": [
    "final_coreset_path = os.path.join(output_dir, \"final_coreset\")\n",
    "service_obj.save_coreset(final_coreset_path)"
   ]
  }
 ],
 "metadata": {
  "kernelspec": {
   "display_name": "Python 3 (ipykernel)",
   "language": "python",
   "name": "python3"
  },
  "language_info": {
   "codemirror_mode": {
    "name": "ipython",
    "version": 3
   },
   "file_extension": ".py",
   "mimetype": "text/x-python",
   "name": "python",
   "nbconvert_exporter": "python",
   "pygments_lexer": "ipython3",
   "version": "3.9.11"
  }
 },
 "nbformat": 4,
 "nbformat_minor": 4
}
